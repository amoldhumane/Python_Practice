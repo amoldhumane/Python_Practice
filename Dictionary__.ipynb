{
 "cells": [
  {
   "cell_type": "markdown",
   "id": "7231efe2",
   "metadata": {},
   "source": [
    "***Tuple can be a key in dictionary but lists can not be*** "
   ]
  },
  {
   "cell_type": "code",
   "execution_count": 2,
   "id": "b2adec25",
   "metadata": {},
   "outputs": [],
   "source": [
    "d={1:'amol','awneesh':1.14,3.14:(1,2,3),(1,10,200):'hello'}"
   ]
  },
  {
   "cell_type": "markdown",
   "id": "b2c1e1f9",
   "metadata": {},
   "source": [
    "***Lets check whether list can be a key in dictionary***"
   ]
  },
  {
   "cell_type": "code",
   "execution_count": 3,
   "id": "44cfdfa0",
   "metadata": {},
   "outputs": [
    {
     "ename": "TypeError",
     "evalue": "unhashable type: 'list'",
     "output_type": "error",
     "traceback": [
      "\u001b[1;31m---------------------------------------------------------------------------\u001b[0m",
      "\u001b[1;31mTypeError\u001b[0m                                 Traceback (most recent call last)",
      "Input \u001b[1;32mIn [3]\u001b[0m, in \u001b[0;36m<cell line: 1>\u001b[1;34m()\u001b[0m\n\u001b[1;32m----> 1\u001b[0m d\u001b[38;5;241m=\u001b[39m{[\u001b[38;5;241m1\u001b[39m,\u001b[38;5;241m2\u001b[39m,\u001b[38;5;241m3\u001b[39m]:\u001b[38;5;124m'\u001b[39m\u001b[38;5;124mAwaneesh\u001b[39m\u001b[38;5;124m'\u001b[39m}\n",
      "\u001b[1;31mTypeError\u001b[0m: unhashable type: 'list'"
     ]
    }
   ],
   "source": [
    "d={[1,2,3]:'Awaneesh'}"
   ]
  },
  {
   "cell_type": "markdown",
   "id": "de80b8dc",
   "metadata": {},
   "source": [
    "### Iterate through dictionary"
   ]
  },
  {
   "cell_type": "code",
   "execution_count": 6,
   "id": "1bee4bc6",
   "metadata": {},
   "outputs": [],
   "source": [
    "d={1:'amol','awaneesh':1.14,3.14:(1,2,3),(1,10,200):'hello'}"
   ]
  },
  {
   "cell_type": "code",
   "execution_count": 7,
   "id": "d19a9f56",
   "metadata": {},
   "outputs": [
    {
     "name": "stdout",
     "output_type": "stream",
     "text": [
      "1 : amol\n",
      "awaneesh : 1.14\n",
      "3.14 : (1, 2, 3)\n",
      "(1, 10, 200) : hello\n"
     ]
    }
   ],
   "source": [
    "for k,v in d.items():\n",
    "    print(k,':',v)"
   ]
  },
  {
   "cell_type": "markdown",
   "id": "d1b2b660",
   "metadata": {},
   "source": [
    "### keys in dictionary"
   ]
  },
  {
   "cell_type": "code",
   "execution_count": 9,
   "id": "2662cca1",
   "metadata": {},
   "outputs": [],
   "source": [
    "k=d.keys()"
   ]
  },
  {
   "cell_type": "code",
   "execution_count": 10,
   "id": "25dad3c3",
   "metadata": {},
   "outputs": [
    {
     "data": {
      "text/plain": [
       "dict_keys([1, 'awaneesh', 3.14, (1, 10, 200)])"
      ]
     },
     "execution_count": 10,
     "metadata": {},
     "output_type": "execute_result"
    }
   ],
   "source": [
    "k"
   ]
  },
  {
   "cell_type": "code",
   "execution_count": 11,
   "id": "a0904875",
   "metadata": {},
   "outputs": [
    {
     "data": {
      "text/plain": [
       "dict_keys"
      ]
     },
     "execution_count": 11,
     "metadata": {},
     "output_type": "execute_result"
    }
   ],
   "source": [
    "type(k)                  ### type of keys in dictionary is dict_keys"
   ]
  },
  {
   "cell_type": "markdown",
   "id": "4d2f0337",
   "metadata": {},
   "source": [
    "### Values in dictionary"
   ]
  },
  {
   "cell_type": "code",
   "execution_count": 13,
   "id": "d9cdb5dd",
   "metadata": {},
   "outputs": [],
   "source": [
    "v=d.values()"
   ]
  },
  {
   "cell_type": "code",
   "execution_count": 14,
   "id": "cf0c23f0",
   "metadata": {},
   "outputs": [
    {
     "data": {
      "text/plain": [
       "dict_values(['amol', 1.14, (1, 2, 3), 'hello'])"
      ]
     },
     "execution_count": 14,
     "metadata": {},
     "output_type": "execute_result"
    }
   ],
   "source": [
    "v"
   ]
  },
  {
   "cell_type": "code",
   "execution_count": 16,
   "id": "40dcdff7",
   "metadata": {},
   "outputs": [
    {
     "data": {
      "text/plain": [
       "dict_values"
      ]
     },
     "execution_count": 16,
     "metadata": {},
     "output_type": "execute_result"
    }
   ],
   "source": [
    "type(v)               ### type of values in dictionary is dict_values"
   ]
  },
  {
   "cell_type": "code",
   "execution_count": null,
   "id": "b401ed83",
   "metadata": {},
   "outputs": [],
   "source": []
  },
  {
   "cell_type": "markdown",
   "id": "e293b786",
   "metadata": {},
   "source": [
    "***Dictionaries are used to handle unstructured data***"
   ]
  },
  {
   "cell_type": "markdown",
   "id": "8e1a5bba",
   "metadata": {},
   "source": [
    "## Creating empty dictionary"
   ]
  },
  {
   "cell_type": "code",
   "execution_count": 21,
   "id": "8265a1d3",
   "metadata": {},
   "outputs": [
    {
     "name": "stdout",
     "output_type": "stream",
     "text": [
      "<class 'dict'>\n"
     ]
    }
   ],
   "source": [
    "d=dict()\n",
    "print(type(d))"
   ]
  },
  {
   "cell_type": "code",
   "execution_count": 22,
   "id": "d15d3427",
   "metadata": {},
   "outputs": [
    {
     "name": "stdout",
     "output_type": "stream",
     "text": [
      "<class 'dict'>\n"
     ]
    }
   ],
   "source": [
    "d={}\n",
    "print(type(d))"
   ]
  },
  {
   "cell_type": "markdown",
   "id": "e27603f0",
   "metadata": {},
   "source": [
    "## Creating dictionary from two lists using Dictionary Comprehension"
   ]
  },
  {
   "cell_type": "code",
   "execution_count": 20,
   "id": "62be1fae",
   "metadata": {},
   "outputs": [
    {
     "name": "stdout",
     "output_type": "stream",
     "text": [
      "{'Amol': 1, 'Awaneesh': 2, 'Ashwini': 3}\n"
     ]
    }
   ],
   "source": [
    "lst1=['Amol','Awaneesh','Ashwini']\n",
    "lst2=[1,2,3]\n",
    "d={lst1[i]:lst2[i] for i in range(len(lst1))}\n",
    "print(d)"
   ]
  },
  {
   "cell_type": "markdown",
   "id": "ede97da6",
   "metadata": {},
   "source": [
    "## OR"
   ]
  },
  {
   "cell_type": "code",
   "execution_count": 33,
   "id": "1c5be8a5",
   "metadata": {},
   "outputs": [],
   "source": [
    "lst1=['Amol','Awaneesh','Ashwini']\n",
    "lst2=[1,2,3]\n",
    "\n",
    "d=dict(zip(lst1,lst2))"
   ]
  },
  {
   "cell_type": "code",
   "execution_count": 34,
   "id": "32512e34",
   "metadata": {},
   "outputs": [
    {
     "data": {
      "text/plain": [
       "{'Amol': 1, 'Awaneesh': 2, 'Ashwini': 3}"
      ]
     },
     "execution_count": 34,
     "metadata": {},
     "output_type": "execute_result"
    }
   ],
   "source": [
    "d"
   ]
  },
  {
   "cell_type": "markdown",
   "id": "d4eedd54",
   "metadata": {},
   "source": [
    "## Creating Dictionaries by passing parametrs in dict constructor"
   ]
  },
  {
   "cell_type": "code",
   "execution_count": 23,
   "id": "37505da3",
   "metadata": {},
   "outputs": [],
   "source": [
    "\n",
    "wordFrequency = dict(Hello =  7, \n",
    "                     hi    = 10,\n",
    "                     there  = 45,\n",
    "                     at    = 23,\n",
    "                     this  = 77\n",
    "                     )"
   ]
  },
  {
   "cell_type": "code",
   "execution_count": 24,
   "id": "3447363a",
   "metadata": {},
   "outputs": [
    {
     "data": {
      "text/plain": [
       "{'Hello': 7, 'hi': 10, 'there': 45, 'at': 23, 'this': 77}"
      ]
     },
     "execution_count": 24,
     "metadata": {},
     "output_type": "execute_result"
    }
   ],
   "source": [
    "wordFrequency"
   ]
  },
  {
   "cell_type": "markdown",
   "id": "3bd3cbe8",
   "metadata": {},
   "source": [
    "### another way"
   ]
  },
  {
   "cell_type": "code",
   "execution_count": 28,
   "id": "ab4a5dc1",
   "metadata": {},
   "outputs": [],
   "source": [
    "wordFrequency = {'Hello':  7, \n",
    "                     'hi': 10,\n",
    "                     'there': 45,\n",
    "                     'at': 23,\n",
    "                     'this': 77\n",
    "                }"
   ]
  },
  {
   "cell_type": "code",
   "execution_count": 29,
   "id": "9020ea0f",
   "metadata": {},
   "outputs": [
    {
     "data": {
      "text/plain": [
       "{'Hello': 7, 'hi': 10, 'there': 45, 'at': 23, 'this': 77}"
      ]
     },
     "execution_count": 29,
     "metadata": {},
     "output_type": "execute_result"
    }
   ],
   "source": [
    "wordFrequency"
   ]
  },
  {
   "cell_type": "markdown",
   "id": "4642b11f",
   "metadata": {},
   "source": [
    "## Creating dictionary from list of tuples"
   ]
  },
  {
   "cell_type": "code",
   "execution_count": 30,
   "id": "df6ce379",
   "metadata": {},
   "outputs": [],
   "source": [
    "lot=[('Amol',1),('Ashwini',2),('Awaneesh',3)]"
   ]
  },
  {
   "cell_type": "code",
   "execution_count": 31,
   "id": "a0f14de7",
   "metadata": {},
   "outputs": [],
   "source": [
    "d=dict(lot)"
   ]
  },
  {
   "cell_type": "code",
   "execution_count": 32,
   "id": "c42c0f89",
   "metadata": {},
   "outputs": [
    {
     "data": {
      "text/plain": [
       "{'Amol': 1, 'Ashwini': 2, 'Awaneesh': 3}"
      ]
     },
     "execution_count": 32,
     "metadata": {},
     "output_type": "execute_result"
    }
   ],
   "source": [
    "d"
   ]
  },
  {
   "cell_type": "markdown",
   "id": "27f643aa",
   "metadata": {},
   "source": [
    "## Creating dictionary from keys"
   ]
  },
  {
   "cell_type": "code",
   "execution_count": 39,
   "id": "4ab33c1f",
   "metadata": {},
   "outputs": [],
   "source": [
    "d=dict.fromkeys(['Amol','Awaneesh','Ashwini'], 2)"
   ]
  },
  {
   "cell_type": "code",
   "execution_count": 40,
   "id": "0c5ecb95",
   "metadata": {},
   "outputs": [
    {
     "data": {
      "text/plain": [
       "{'Amol': 2, 'Awaneesh': 2, 'Ashwini': 2}"
      ]
     },
     "execution_count": 40,
     "metadata": {},
     "output_type": "execute_result"
    }
   ],
   "source": [
    "d"
   ]
  },
  {
   "cell_type": "markdown",
   "id": "98be3c43",
   "metadata": {},
   "source": [
    "### Update dictionary"
   ]
  },
  {
   "cell_type": "code",
   "execution_count": 45,
   "id": "41d9c08f",
   "metadata": {},
   "outputs": [],
   "source": [
    "d.update({'Bhau':3})"
   ]
  },
  {
   "cell_type": "code",
   "execution_count": 46,
   "id": "b7a03ba4",
   "metadata": {},
   "outputs": [
    {
     "data": {
      "text/plain": [
       "{'Amol': 2, 'Awaneesh': 2, 'Ashwini': 2, 'Bhau': 3}"
      ]
     },
     "execution_count": 46,
     "metadata": {},
     "output_type": "execute_result"
    }
   ],
   "source": [
    "d"
   ]
  },
  {
   "cell_type": "code",
   "execution_count": 47,
   "id": "c166135a",
   "metadata": {},
   "outputs": [],
   "source": [
    "d.update({'aai':4,'Jiji':5})"
   ]
  },
  {
   "cell_type": "code",
   "execution_count": 48,
   "id": "f8f54545",
   "metadata": {},
   "outputs": [
    {
     "data": {
      "text/plain": [
       "{'Amol': 2, 'Awaneesh': 2, 'Ashwini': 2, 'Bhau': 3, 'aai': 4, 'Jiji': 5}"
      ]
     },
     "execution_count": 48,
     "metadata": {},
     "output_type": "execute_result"
    }
   ],
   "source": [
    "d"
   ]
  },
  {
   "cell_type": "code",
   "execution_count": 49,
   "id": "416a7796",
   "metadata": {},
   "outputs": [],
   "source": [
    "d['Sahil']=6        # another way to update dictionary"
   ]
  },
  {
   "cell_type": "code",
   "execution_count": 50,
   "id": "c29f617a",
   "metadata": {},
   "outputs": [
    {
     "data": {
      "text/plain": [
       "{'Amol': 2,\n",
       " 'Awaneesh': 2,\n",
       " 'Ashwini': 2,\n",
       " 'Bhau': 3,\n",
       " 'aai': 4,\n",
       " 'Jiji': 5,\n",
       " 'Sahil': 6}"
      ]
     },
     "execution_count": 50,
     "metadata": {},
     "output_type": "execute_result"
    }
   ],
   "source": [
    "d"
   ]
  },
  {
   "cell_type": "code",
   "execution_count": 52,
   "id": "c6bee1ab",
   "metadata": {},
   "outputs": [
    {
     "data": {
      "text/plain": [
       "2"
      ]
     },
     "execution_count": 52,
     "metadata": {},
     "output_type": "execute_result"
    }
   ],
   "source": [
    "d.pop('Amol')"
   ]
  },
  {
   "cell_type": "code",
   "execution_count": 53,
   "id": "c90419cb",
   "metadata": {},
   "outputs": [
    {
     "data": {
      "text/plain": [
       "{'Awaneesh': 2, 'Ashwini': 2, 'Bhau': 3, 'aai': 4, 'Jiji': 5, 'Sahil': 6}"
      ]
     },
     "execution_count": 53,
     "metadata": {},
     "output_type": "execute_result"
    }
   ],
   "source": [
    "d"
   ]
  },
  {
   "cell_type": "code",
   "execution_count": 54,
   "id": "a7b0820e",
   "metadata": {},
   "outputs": [
    {
     "data": {
      "text/plain": [
       "('Sahil', 6)"
      ]
     },
     "execution_count": 54,
     "metadata": {},
     "output_type": "execute_result"
    }
   ],
   "source": [
    "d.popitem()"
   ]
  },
  {
   "cell_type": "code",
   "execution_count": 55,
   "id": "0892f228",
   "metadata": {},
   "outputs": [],
   "source": [
    "d['aai']=400  ## we can change the value of dictionary key"
   ]
  },
  {
   "cell_type": "code",
   "execution_count": 56,
   "id": "1464a736",
   "metadata": {},
   "outputs": [
    {
     "data": {
      "text/plain": [
       "{'Awaneesh': 2, 'Ashwini': 2, 'Bhau': 3, 'aai': 400, 'Jiji': 5}"
      ]
     },
     "execution_count": 56,
     "metadata": {},
     "output_type": "execute_result"
    }
   ],
   "source": [
    "d"
   ]
  },
  {
   "cell_type": "code",
   "execution_count": 57,
   "id": "5dd73fe4",
   "metadata": {},
   "outputs": [
    {
     "data": {
      "text/plain": [
       "2"
      ]
     },
     "execution_count": 57,
     "metadata": {},
     "output_type": "execute_result"
    }
   ],
   "source": [
    "d.get('Awaneesh')  # gives value of the key"
   ]
  },
  {
   "cell_type": "code",
   "execution_count": 58,
   "id": "d965904b",
   "metadata": {},
   "outputs": [
    {
     "data": {
      "text/plain": [
       "dict_items([('Awaneesh', 2), ('Ashwini', 2), ('Bhau', 3), ('aai', 400), ('Jiji', 5)])"
      ]
     },
     "execution_count": 58,
     "metadata": {},
     "output_type": "execute_result"
    }
   ],
   "source": [
    "d.items()"
   ]
  },
  {
   "cell_type": "code",
   "execution_count": 59,
   "id": "8fd865dd",
   "metadata": {},
   "outputs": [
    {
     "data": {
      "text/plain": [
       "dict_keys(['Awaneesh', 'Ashwini', 'Bhau', 'aai', 'Jiji'])"
      ]
     },
     "execution_count": 59,
     "metadata": {},
     "output_type": "execute_result"
    }
   ],
   "source": [
    "d.keys()"
   ]
  },
  {
   "cell_type": "code",
   "execution_count": 60,
   "id": "4e66ac87",
   "metadata": {},
   "outputs": [
    {
     "data": {
      "text/plain": [
       "2"
      ]
     },
     "execution_count": 60,
     "metadata": {},
     "output_type": "execute_result"
    }
   ],
   "source": [
    "d.pop('Ashwini')"
   ]
  },
  {
   "cell_type": "code",
   "execution_count": 61,
   "id": "6fc263db",
   "metadata": {},
   "outputs": [
    {
     "data": {
      "text/plain": [
       "{'Awaneesh': 2, 'Bhau': 3, 'aai': 400, 'Jiji': 5}"
      ]
     },
     "execution_count": 61,
     "metadata": {},
     "output_type": "execute_result"
    }
   ],
   "source": [
    "d"
   ]
  },
  {
   "cell_type": "code",
   "execution_count": 62,
   "id": "eeb4ade5",
   "metadata": {},
   "outputs": [
    {
     "data": {
      "text/plain": [
       "dict_values([2, 3, 400, 5])"
      ]
     },
     "execution_count": 62,
     "metadata": {},
     "output_type": "execute_result"
    }
   ],
   "source": [
    "d.values()"
   ]
  },
  {
   "cell_type": "code",
   "execution_count": 63,
   "id": "d72a9334",
   "metadata": {},
   "outputs": [
    {
     "data": {
      "text/plain": [
       "-1"
      ]
     },
     "execution_count": 63,
     "metadata": {},
     "output_type": "execute_result"
    }
   ],
   "source": [
    "d.setdefault('Amol',-1)"
   ]
  },
  {
   "cell_type": "code",
   "execution_count": 64,
   "id": "3f665f39",
   "metadata": {},
   "outputs": [
    {
     "data": {
      "text/plain": [
       "{'Awaneesh': 2, 'Bhau': 3, 'aai': 400, 'Jiji': 5, 'Amol': -1}"
      ]
     },
     "execution_count": 64,
     "metadata": {},
     "output_type": "execute_result"
    }
   ],
   "source": [
    "d"
   ]
  },
  {
   "cell_type": "code",
   "execution_count": 65,
   "id": "8f9dbdcb",
   "metadata": {},
   "outputs": [
    {
     "data": {
      "text/plain": [
       "3"
      ]
     },
     "execution_count": 65,
     "metadata": {},
     "output_type": "execute_result"
    }
   ],
   "source": [
    "d.setdefault('Bhau',-1)"
   ]
  },
  {
   "cell_type": "code",
   "execution_count": 66,
   "id": "cb827ea2",
   "metadata": {},
   "outputs": [
    {
     "data": {
      "text/plain": [
       "{'Awaneesh': 2, 'Bhau': 3, 'aai': 400, 'Jiji': 5, 'Amol': -1}"
      ]
     },
     "execution_count": 66,
     "metadata": {},
     "output_type": "execute_result"
    }
   ],
   "source": [
    "d"
   ]
  },
  {
   "cell_type": "code",
   "execution_count": null,
   "id": "aa447ac3",
   "metadata": {},
   "outputs": [],
   "source": []
  },
  {
   "cell_type": "markdown",
   "id": "8337a415",
   "metadata": {},
   "source": [
    "# Example of dictionary"
   ]
  },
  {
   "cell_type": "code",
   "execution_count": 67,
   "id": "1bd3f91f",
   "metadata": {},
   "outputs": [],
   "source": [
    "list_of_students=[{'Name':'Amol','Roll':10,'Fees':20000},\n",
    "                  {'Name':'Awaneesh','Roll':11},\n",
    "                  {'Name':'Ashwini','Roll':12,'Fees':4000}]"
   ]
  },
  {
   "cell_type": "code",
   "execution_count": 68,
   "id": "2a126412",
   "metadata": {},
   "outputs": [
    {
     "data": {
      "text/plain": [
       "{'Name': 'Amol', 'Roll': 10, 'Fees': 20000}"
      ]
     },
     "execution_count": 68,
     "metadata": {},
     "output_type": "execute_result"
    }
   ],
   "source": [
    "list_of_students[0]"
   ]
  },
  {
   "cell_type": "code",
   "execution_count": 69,
   "id": "4a5d8bc6",
   "metadata": {},
   "outputs": [
    {
     "data": {
      "text/plain": [
       "10"
      ]
     },
     "execution_count": 69,
     "metadata": {},
     "output_type": "execute_result"
    }
   ],
   "source": [
    "list_of_students[0]['Roll']"
   ]
  },
  {
   "cell_type": "code",
   "execution_count": 70,
   "id": "6aa17dee",
   "metadata": {},
   "outputs": [
    {
     "ename": "KeyError",
     "evalue": "'Fees'",
     "output_type": "error",
     "traceback": [
      "\u001b[1;31m---------------------------------------------------------------------------\u001b[0m",
      "\u001b[1;31mKeyError\u001b[0m                                  Traceback (most recent call last)",
      "Input \u001b[1;32mIn [70]\u001b[0m, in \u001b[0;36m<cell line: 1>\u001b[1;34m()\u001b[0m\n\u001b[1;32m----> 1\u001b[0m \u001b[43mlist_of_students\u001b[49m\u001b[43m[\u001b[49m\u001b[38;5;241;43m1\u001b[39;49m\u001b[43m]\u001b[49m\u001b[43m[\u001b[49m\u001b[38;5;124;43m'\u001b[39;49m\u001b[38;5;124;43mFees\u001b[39;49m\u001b[38;5;124;43m'\u001b[39;49m\u001b[43m]\u001b[49m\n",
      "\u001b[1;31mKeyError\u001b[0m: 'Fees'"
     ]
    }
   ],
   "source": [
    "list_of_students[1]['Fees']"
   ]
  },
  {
   "cell_type": "code",
   "execution_count": 71,
   "id": "14ab93b7",
   "metadata": {},
   "outputs": [
    {
     "data": {
      "text/plain": [
       "4000"
      ]
     },
     "execution_count": 71,
     "metadata": {},
     "output_type": "execute_result"
    }
   ],
   "source": [
    "list_of_students[2]['Fees']"
   ]
  },
  {
   "cell_type": "code",
   "execution_count": 72,
   "id": "ae7c16c9",
   "metadata": {},
   "outputs": [
    {
     "data": {
      "text/plain": [
       "0"
      ]
     },
     "execution_count": 72,
     "metadata": {},
     "output_type": "execute_result"
    }
   ],
   "source": [
    "list_of_students[1].get('Fees',0)"
   ]
  },
  {
   "cell_type": "code",
   "execution_count": 73,
   "id": "bf10fbb7",
   "metadata": {},
   "outputs": [
    {
     "data": {
      "text/plain": [
       "4000"
      ]
     },
     "execution_count": 73,
     "metadata": {},
     "output_type": "execute_result"
    }
   ],
   "source": [
    "list_of_students[2].get('Fees',0)"
   ]
  },
  {
   "cell_type": "code",
   "execution_count": 74,
   "id": "c3da9532",
   "metadata": {},
   "outputs": [
    {
     "data": {
      "text/plain": [
       "20000"
      ]
     },
     "execution_count": 74,
     "metadata": {},
     "output_type": "execute_result"
    }
   ],
   "source": [
    "list_of_students[0].pop('Fees')"
   ]
  },
  {
   "cell_type": "code",
   "execution_count": 75,
   "id": "1cfcc658",
   "metadata": {},
   "outputs": [
    {
     "data": {
      "text/plain": [
       "{'Name': 'Amol', 'Roll': 10}"
      ]
     },
     "execution_count": 75,
     "metadata": {},
     "output_type": "execute_result"
    }
   ],
   "source": [
    "list_of_students[0]"
   ]
  },
  {
   "cell_type": "code",
   "execution_count": 76,
   "id": "fbd8dcdd",
   "metadata": {},
   "outputs": [],
   "source": [
    "list_of_students[0]['Fees']=10000"
   ]
  },
  {
   "cell_type": "code",
   "execution_count": 77,
   "id": "7f374ec9",
   "metadata": {},
   "outputs": [
    {
     "data": {
      "text/plain": [
       "{'Name': 'Amol', 'Roll': 10, 'Fees': 10000}"
      ]
     },
     "execution_count": 77,
     "metadata": {},
     "output_type": "execute_result"
    }
   ],
   "source": [
    "list_of_students[0]"
   ]
  },
  {
   "cell_type": "code",
   "execution_count": 78,
   "id": "e144ca74",
   "metadata": {},
   "outputs": [
    {
     "data": {
      "text/plain": [
       "dict_keys(['Name', 'Roll', 'Fees'])"
      ]
     },
     "execution_count": 78,
     "metadata": {},
     "output_type": "execute_result"
    }
   ],
   "source": [
    "list_of_students[2].keys()"
   ]
  },
  {
   "cell_type": "code",
   "execution_count": 79,
   "id": "da1145e7",
   "metadata": {},
   "outputs": [
    {
     "data": {
      "text/plain": [
       "dict_values(['Ashwini', 12, 4000])"
      ]
     },
     "execution_count": 79,
     "metadata": {},
     "output_type": "execute_result"
    }
   ],
   "source": [
    "list_of_students[2].values()"
   ]
  },
  {
   "cell_type": "code",
   "execution_count": null,
   "id": "76a10c34",
   "metadata": {},
   "outputs": [],
   "source": []
  },
  {
   "cell_type": "markdown",
   "id": "0ba1c9fe",
   "metadata": {},
   "source": [
    "### fromkeys() method in dictionary"
   ]
  },
  {
   "cell_type": "code",
   "execution_count": 87,
   "id": "e03f24bf",
   "metadata": {},
   "outputs": [],
   "source": [
    "d=dict()"
   ]
  },
  {
   "cell_type": "code",
   "execution_count": 90,
   "id": "6f11c5ab",
   "metadata": {},
   "outputs": [],
   "source": [
    "d=d.fromkeys(['1','2','3'],100)"
   ]
  },
  {
   "cell_type": "code",
   "execution_count": 91,
   "id": "04017e38",
   "metadata": {},
   "outputs": [
    {
     "data": {
      "text/plain": [
       "{'1': 100, '2': 100, '3': 100}"
      ]
     },
     "execution_count": 91,
     "metadata": {},
     "output_type": "execute_result"
    }
   ],
   "source": [
    "d"
   ]
  },
  {
   "cell_type": "code",
   "execution_count": 92,
   "id": "f67ef9a1",
   "metadata": {},
   "outputs": [
    {
     "data": {
      "text/plain": [
       "-1"
      ]
     },
     "execution_count": 92,
     "metadata": {},
     "output_type": "execute_result"
    }
   ],
   "source": [
    "d.setdefault('4',-1)"
   ]
  },
  {
   "cell_type": "code",
   "execution_count": 94,
   "id": "c87b0bf7",
   "metadata": {},
   "outputs": [
    {
     "data": {
      "text/plain": [
       "{'1': 100, '2': 100, '3': 100, '4': -1}"
      ]
     },
     "execution_count": 94,
     "metadata": {},
     "output_type": "execute_result"
    }
   ],
   "source": [
    "d"
   ]
  },
  {
   "cell_type": "code",
   "execution_count": null,
   "id": "992ce1fe",
   "metadata": {},
   "outputs": [],
   "source": []
  }
 ],
 "metadata": {
  "kernelspec": {
   "display_name": "Python 3 (ipykernel)",
   "language": "python",
   "name": "python3"
  },
  "language_info": {
   "codemirror_mode": {
    "name": "ipython",
    "version": 3
   },
   "file_extension": ".py",
   "mimetype": "text/x-python",
   "name": "python",
   "nbconvert_exporter": "python",
   "pygments_lexer": "ipython3",
   "version": "3.9.12"
  }
 },
 "nbformat": 4,
 "nbformat_minor": 5
}
