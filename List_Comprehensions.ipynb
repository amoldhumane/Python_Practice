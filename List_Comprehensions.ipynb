{
 "cells": [
  {
   "cell_type": "markdown",
   "id": "74d4d701",
   "metadata": {},
   "source": [
    "# List Comprehensions"
   ]
  },
  {
   "cell_type": "code",
   "execution_count": 1,
   "id": "0642cc77",
   "metadata": {},
   "outputs": [
    {
     "name": "stdout",
     "output_type": "stream",
     "text": [
      "['Dhumane', 'Phale', 'Badade', 'Khedkar', 'Kulat']\n"
     ]
    }
   ],
   "source": [
    "names=['Mrs.Dhumane','Miss.Phale','Miss.Badade','Mrs.Khedkar','Mrs.Kulat']\n",
    "\n",
    "surnames=[name.split('.')[1] for name in names]\n",
    "print(surnames)"
   ]
  },
  {
   "cell_type": "markdown",
   "id": "29a92f9f",
   "metadata": {},
   "source": [
    "#### Find even numbers"
   ]
  },
  {
   "cell_type": "code",
   "execution_count": 11,
   "id": "37954773",
   "metadata": {},
   "outputs": [
    {
     "name": "stdout",
     "output_type": "stream",
     "text": [
      "[2, 4, 6, 8, 10]\n"
     ]
    }
   ],
   "source": [
    "lst1=[1,2,3,4,5,6,7,8,9,10]\n",
    "\n",
    "even_num=[i for i in lst1 if i%2==0]\n",
    "print(even_num)"
   ]
  },
  {
   "cell_type": "markdown",
   "id": "4a173b4b",
   "metadata": {},
   "source": [
    "#### One  more example"
   ]
  },
  {
   "cell_type": "code",
   "execution_count": 13,
   "id": "c18df241",
   "metadata": {},
   "outputs": [
    {
     "name": "stdout",
     "output_type": "stream",
     "text": [
      "[[0, 1, 2], [1, 2, 3], [2, 3, 4]]\n"
     ]
    }
   ],
   "source": [
    "A=[[i+j for j in range(3)] for i in range(3)] \n",
    "print(A)"
   ]
  },
  {
   "cell_type": "code",
   "execution_count": null,
   "id": "754dafc4",
   "metadata": {},
   "outputs": [],
   "source": []
  },
  {
   "cell_type": "markdown",
   "id": "eed99084",
   "metadata": {},
   "source": [
    "# Traverse list of tuples"
   ]
  },
  {
   "cell_type": "code",
   "execution_count": 14,
   "id": "b43cf3c0",
   "metadata": {},
   "outputs": [],
   "source": [
    "lst=[('Amol',1),('Ashwini',2),('Awaneesh',3)]"
   ]
  },
  {
   "cell_type": "code",
   "execution_count": 15,
   "id": "6230441b",
   "metadata": {},
   "outputs": [
    {
     "name": "stdout",
     "output_type": "stream",
     "text": [
      "Amol 1\n",
      "Ashwini 2\n",
      "Awaneesh 3\n"
     ]
    }
   ],
   "source": [
    "for i,j in lst:\n",
    "    print(i,j)"
   ]
  },
  {
   "cell_type": "markdown",
   "id": "935f8fe1",
   "metadata": {},
   "source": [
    "# one more"
   ]
  },
  {
   "cell_type": "code",
   "execution_count": 16,
   "id": "04690606",
   "metadata": {},
   "outputs": [],
   "source": [
    "lst=[('Amol',1,'india'),('Ashwini',2,'Australia'),('Awaneesh',3,'Europe')]"
   ]
  },
  {
   "cell_type": "code",
   "execution_count": 17,
   "id": "529119b5",
   "metadata": {},
   "outputs": [
    {
     "name": "stdout",
     "output_type": "stream",
     "text": [
      "Amol 1 india\n",
      "Ashwini 2 Australia\n",
      "Awaneesh 3 Europe\n"
     ]
    }
   ],
   "source": [
    "for i,j,k in lst:\n",
    "    print(i,j,k)"
   ]
  },
  {
   "cell_type": "code",
   "execution_count": null,
   "id": "89be2d35",
   "metadata": {},
   "outputs": [],
   "source": []
  }
 ],
 "metadata": {
  "kernelspec": {
   "display_name": "Python 3 (ipykernel)",
   "language": "python",
   "name": "python3"
  },
  "language_info": {
   "codemirror_mode": {
    "name": "ipython",
    "version": 3
   },
   "file_extension": ".py",
   "mimetype": "text/x-python",
   "name": "python",
   "nbconvert_exporter": "python",
   "pygments_lexer": "ipython3",
   "version": "3.9.12"
  }
 },
 "nbformat": 4,
 "nbformat_minor": 5
}
