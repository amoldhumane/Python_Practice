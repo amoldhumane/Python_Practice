{
 "cells": [
  {
   "cell_type": "markdown",
   "id": "caed5f6f",
   "metadata": {},
   "source": [
    "# Map "
   ]
  },
  {
   "cell_type": "code",
   "execution_count": 1,
   "id": "f9a4fade",
   "metadata": {},
   "outputs": [
    {
     "name": "stdout",
     "output_type": "stream",
     "text": [
      "10\n",
      "20\n",
      "30\n"
     ]
    }
   ],
   "source": [
    "a=[10.1,20.3,30.7]\n",
    "x=map(int,a)\n",
    "for i in x:\n",
    "    print(i)"
   ]
  },
  {
   "cell_type": "markdown",
   "id": "c81578e7",
   "metadata": {},
   "source": [
    "#### Example 2"
   ]
  },
  {
   "cell_type": "code",
   "execution_count": 3,
   "id": "3c7f463c",
   "metadata": {},
   "outputs": [
    {
     "name": "stdout",
     "output_type": "stream",
     "text": [
      "<map object at 0x000002A9E7740100>\n",
      "1\n",
      "4\n",
      "9\n",
      "16\n",
      "25\n",
      "36\n",
      "49\n",
      "64\n",
      "81\n",
      "100\n"
     ]
    }
   ],
   "source": [
    "## find squares\n",
    "\n",
    "lst=[1,2,3,4,5,6,7,8,9,10]\n",
    "\n",
    "def sq(x):\n",
    "    return(x*x)\n",
    "\n",
    "sqs=map(sq, lst)\n",
    "print(sqs)\n",
    "for i in sqs:\n",
    "    print(i)"
   ]
  },
  {
   "cell_type": "code",
   "execution_count": 4,
   "id": "e977ff68",
   "metadata": {},
   "outputs": [
    {
     "name": "stdout",
     "output_type": "stream",
     "text": [
      "[1, 4, 9, 16, 25, 36, 49, 64, 81, 100]\n"
     ]
    }
   ],
   "source": [
    "## return type of map is an object function which can be typecasted into list\n",
    "\n",
    "def sqs(x):\n",
    "    return(x*x)\n",
    "\n",
    "lst1=[1,2,3,4,5,6,7,8,9,10]\n",
    "sq_lst=list(map(sqs,lst1))\n",
    "print(sq_lst)"
   ]
  },
  {
   "cell_type": "markdown",
   "id": "eb972b7f",
   "metadata": {},
   "source": [
    "# filter"
   ]
  },
  {
   "cell_type": "code",
   "execution_count": 14,
   "id": "660b31a1",
   "metadata": {},
   "outputs": [],
   "source": [
    "lst=[1,2,3,4,5,6,7,8,9,10]\n",
    "lst1=list(filter(lambda x:x%2==0, lst))"
   ]
  },
  {
   "cell_type": "code",
   "execution_count": 15,
   "id": "743bb8cb",
   "metadata": {},
   "outputs": [
    {
     "data": {
      "text/plain": [
       "[2, 4, 6, 8, 10]"
      ]
     },
     "execution_count": 15,
     "metadata": {},
     "output_type": "execute_result"
    }
   ],
   "source": [
    "lst1"
   ]
  },
  {
   "cell_type": "markdown",
   "id": "25cc49e3",
   "metadata": {},
   "source": [
    "#### Example 2"
   ]
  },
  {
   "cell_type": "code",
   "execution_count": 35,
   "id": "ea9568b7",
   "metadata": {},
   "outputs": [
    {
     "name": "stdout",
     "output_type": "stream",
     "text": [
      "['Mrs.Jadhav', 'Miss.Kulkarni', 'Mrs.Dhumane']\n"
     ]
    }
   ],
   "source": [
    "names=['Mr.Patil','Mrs.Jadhav','Miss.Kulkarni','Mr.Pawar','Mrs.Dhumane']\n",
    "# filter the titles of names\n",
    "\n",
    "lst2=list(filter(lambda x: x.split('.')[0] in['Mrs','Miss'] ,names))\n",
    "print(lst2)"
   ]
  },
  {
   "cell_type": "code",
   "execution_count": null,
   "id": "d6120010",
   "metadata": {},
   "outputs": [],
   "source": []
  },
  {
   "cell_type": "markdown",
   "id": "ca580950",
   "metadata": {},
   "source": [
    "# Reduce"
   ]
  },
  {
   "cell_type": "markdown",
   "id": "65d4e6c9",
   "metadata": {},
   "source": [
    "#### Exmaple:1"
   ]
  },
  {
   "cell_type": "code",
   "execution_count": 38,
   "id": "8dc30b4a",
   "metadata": {},
   "outputs": [
    {
     "name": "stdout",
     "output_type": "stream",
     "text": [
      "120\n"
     ]
    }
   ],
   "source": [
    "from functools import reduce\n",
    "lst=[1,2,3,4,5]\n",
    "val=reduce(lambda x,y:x*y, lst)\n",
    "print(val)"
   ]
  },
  {
   "cell_type": "markdown",
   "id": "0b0e3736",
   "metadata": {},
   "source": [
    "#### Example:2"
   ]
  },
  {
   "cell_type": "code",
   "execution_count": 39,
   "id": "ab884e46",
   "metadata": {},
   "outputs": [
    {
     "name": "stdout",
     "output_type": "stream",
     "text": [
      "120\n"
     ]
    }
   ],
   "source": [
    "from functools import reduce\n",
    "tup=(1,2,3,4,5)\n",
    "val=reduce(lambda x,y:x*y, tup)\n",
    "print(val)"
   ]
  },
  {
   "cell_type": "code",
   "execution_count": null,
   "id": "af3b797d",
   "metadata": {},
   "outputs": [],
   "source": []
  },
  {
   "cell_type": "code",
   "execution_count": null,
   "id": "fa7087f3",
   "metadata": {},
   "outputs": [],
   "source": []
  }
 ],
 "metadata": {
  "kernelspec": {
   "display_name": "Python 3 (ipykernel)",
   "language": "python",
   "name": "python3"
  },
  "language_info": {
   "codemirror_mode": {
    "name": "ipython",
    "version": 3
   },
   "file_extension": ".py",
   "mimetype": "text/x-python",
   "name": "python",
   "nbconvert_exporter": "python",
   "pygments_lexer": "ipython3",
   "version": "3.9.12"
  }
 },
 "nbformat": 4,
 "nbformat_minor": 5
}
