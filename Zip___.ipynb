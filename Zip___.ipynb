{
 "cells": [
  {
   "cell_type": "markdown",
   "id": "e830b674",
   "metadata": {},
   "source": [
    "# List of tuples"
   ]
  },
  {
   "cell_type": "code",
   "execution_count": 8,
   "id": "32df825b",
   "metadata": {},
   "outputs": [
    {
     "name": "stdout",
     "output_type": "stream",
     "text": [
      "[(1, '1'), (2, '2'), (3, '3'), (4, '4')]\n"
     ]
    }
   ],
   "source": [
    "lst1=[1,2,3,4]\n",
    "lst2=['1','2','3','4']\n",
    "\n",
    "lst3=list(zip(lst1,lst2))\n",
    "print(lst3)"
   ]
  },
  {
   "cell_type": "markdown",
   "id": "b4047dab",
   "metadata": {},
   "source": [
    "# tuple of tuples"
   ]
  },
  {
   "cell_type": "code",
   "execution_count": 7,
   "id": "d97816ec",
   "metadata": {},
   "outputs": [
    {
     "name": "stdout",
     "output_type": "stream",
     "text": [
      "((1, '1'), (2, '2'), (3, '3'), (4, '4'))\n"
     ]
    }
   ],
   "source": [
    "lst1=[1,2,3,4]\n",
    "lst2=['1','2','3','4']\n",
    "\n",
    "lst3=tuple(zip(lst1,lst2))\n",
    "print(lst3)"
   ]
  },
  {
   "cell_type": "markdown",
   "id": "0554ff87",
   "metadata": {},
   "source": [
    "# Dictionary"
   ]
  },
  {
   "cell_type": "code",
   "execution_count": 9,
   "id": "01a84223",
   "metadata": {},
   "outputs": [
    {
     "name": "stdout",
     "output_type": "stream",
     "text": [
      "{1: '1', 2: '2', 3: '3', 4: '4'}\n"
     ]
    }
   ],
   "source": [
    "lst1=[1,2,3,4]\n",
    "lst2=['1','2','3','4']\n",
    "\n",
    "lst3=dict(zip(lst1,lst2))\n",
    "print(lst3)"
   ]
  },
  {
   "cell_type": "markdown",
   "id": "d687fefd",
   "metadata": {},
   "source": [
    "# Set with tuples"
   ]
  },
  {
   "cell_type": "code",
   "execution_count": 10,
   "id": "df7ad7b6",
   "metadata": {},
   "outputs": [
    {
     "name": "stdout",
     "output_type": "stream",
     "text": [
      "{(4, '4'), (2, '2'), (1, '1'), (3, '3')}\n"
     ]
    }
   ],
   "source": [
    "lst1=[1,2,3,4]\n",
    "lst2=['1','2','3','4']\n",
    "\n",
    "lst3=set(zip(lst1,lst2))\n",
    "print(lst3)"
   ]
  }
 ],
 "metadata": {
  "kernelspec": {
   "display_name": "Python 3 (ipykernel)",
   "language": "python",
   "name": "python3"
  },
  "language_info": {
   "codemirror_mode": {
    "name": "ipython",
    "version": 3
   },
   "file_extension": ".py",
   "mimetype": "text/x-python",
   "name": "python",
   "nbconvert_exporter": "python",
   "pygments_lexer": "ipython3",
   "version": "3.9.12"
  }
 },
 "nbformat": 4,
 "nbformat_minor": 5
}
