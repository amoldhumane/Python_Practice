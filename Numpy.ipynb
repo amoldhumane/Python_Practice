{
 "cells": [
  {
   "cell_type": "code",
   "execution_count": 1,
   "id": "dd8108f9",
   "metadata": {},
   "outputs": [],
   "source": [
    "import numpy as np"
   ]
  },
  {
   "cell_type": "code",
   "execution_count": 2,
   "id": "d36e3fd0",
   "metadata": {},
   "outputs": [],
   "source": [
    "arr=np.random.randint(1,100,(5,5))"
   ]
  },
  {
   "cell_type": "code",
   "execution_count": 3,
   "id": "2d756336",
   "metadata": {},
   "outputs": [
    {
     "data": {
      "text/plain": [
       "array([[80, 60, 23, 93, 75],\n",
       "       [15, 33, 60, 60, 66],\n",
       "       [28, 77, 96, 43,  6],\n",
       "       [90, 63, 60, 43, 56],\n",
       "       [ 1, 67, 82,  9, 63]])"
      ]
     },
     "execution_count": 3,
     "metadata": {},
     "output_type": "execute_result"
    }
   ],
   "source": [
    "arr"
   ]
  },
  {
   "cell_type": "code",
   "execution_count": 4,
   "id": "5aa15f99",
   "metadata": {},
   "outputs": [
    {
     "data": {
      "text/plain": [
       "93"
      ]
     },
     "execution_count": 4,
     "metadata": {},
     "output_type": "execute_result"
    }
   ],
   "source": [
    "# Numpy arrays are mutable\n",
    "arr[0][3]"
   ]
  },
  {
   "cell_type": "code",
   "execution_count": 5,
   "id": "ec05a177",
   "metadata": {},
   "outputs": [],
   "source": [
    "arr[0][4]=33   #element changed"
   ]
  },
  {
   "cell_type": "code",
   "execution_count": 6,
   "id": "197c3dd0",
   "metadata": {},
   "outputs": [
    {
     "data": {
      "text/plain": [
       "array([[80, 60, 23, 93, 33],\n",
       "       [15, 33, 60, 60, 66],\n",
       "       [28, 77, 96, 43,  6],\n",
       "       [90, 63, 60, 43, 56],\n",
       "       [ 1, 67, 82,  9, 63]])"
      ]
     },
     "execution_count": 6,
     "metadata": {},
     "output_type": "execute_result"
    }
   ],
   "source": [
    "arr"
   ]
  },
  {
   "cell_type": "code",
   "execution_count": 7,
   "id": "770c1066",
   "metadata": {},
   "outputs": [],
   "source": [
    "#numpy array can be sliced"
   ]
  },
  {
   "cell_type": "code",
   "execution_count": 8,
   "id": "66eb70ab",
   "metadata": {},
   "outputs": [
    {
     "data": {
      "text/plain": [
       "array([[96, 43,  6],\n",
       "       [60, 43, 56],\n",
       "       [82,  9, 63]])"
      ]
     },
     "execution_count": 8,
     "metadata": {},
     "output_type": "execute_result"
    }
   ],
   "source": [
    "arr[2::,2::]"
   ]
  },
  {
   "cell_type": "code",
   "execution_count": 9,
   "id": "b2e2fc96",
   "metadata": {},
   "outputs": [],
   "source": [
    "#numpy arrays are iterable"
   ]
  },
  {
   "cell_type": "code",
   "execution_count": 10,
   "id": "a25c1b7e",
   "metadata": {},
   "outputs": [
    {
     "name": "stdout",
     "output_type": "stream",
     "text": [
      "[80 60 23 93 33]\n",
      "[15 33 60 60 66]\n",
      "[28 77 96 43  6]\n",
      "[90 63 60 43 56]\n",
      "[ 1 67 82  9 63]\n"
     ]
    }
   ],
   "source": [
    "for i in arr:\n",
    "    print(i)"
   ]
  },
  {
   "cell_type": "code",
   "execution_count": 11,
   "id": "a15f7f17",
   "metadata": {},
   "outputs": [],
   "source": [
    "# numpy arrays shape,size and ndim attributes"
   ]
  },
  {
   "cell_type": "code",
   "execution_count": 12,
   "id": "2dd50689",
   "metadata": {},
   "outputs": [
    {
     "data": {
      "text/plain": [
       "25"
      ]
     },
     "execution_count": 12,
     "metadata": {},
     "output_type": "execute_result"
    }
   ],
   "source": [
    "arr.size"
   ]
  },
  {
   "cell_type": "code",
   "execution_count": 13,
   "id": "5df5c448",
   "metadata": {},
   "outputs": [
    {
     "data": {
      "text/plain": [
       "(5, 5)"
      ]
     },
     "execution_count": 13,
     "metadata": {},
     "output_type": "execute_result"
    }
   ],
   "source": [
    "arr.shape"
   ]
  },
  {
   "cell_type": "code",
   "execution_count": 15,
   "id": "22bc7a37",
   "metadata": {},
   "outputs": [
    {
     "data": {
      "text/plain": [
       "2"
      ]
     },
     "execution_count": 15,
     "metadata": {},
     "output_type": "execute_result"
    }
   ],
   "source": [
    "arr.ndim"
   ]
  },
  {
   "cell_type": "code",
   "execution_count": 16,
   "id": "62d80a88",
   "metadata": {},
   "outputs": [
    {
     "data": {
      "text/plain": [
       "array([[80, 60, 23, 93, 33],\n",
       "       [15, 33, 60, 60, 66],\n",
       "       [28, 77, 96, 43,  6],\n",
       "       [90, 63, 60, 43, 56],\n",
       "       [ 1, 67, 82,  9, 63]])"
      ]
     },
     "execution_count": 16,
     "metadata": {},
     "output_type": "execute_result"
    }
   ],
   "source": [
    "arr"
   ]
  },
  {
   "cell_type": "code",
   "execution_count": 18,
   "id": "664e7f42",
   "metadata": {},
   "outputs": [],
   "source": [
    "# 1-D array\n",
    "arr1=np.random.randint(1,10,6)  "
   ]
  },
  {
   "cell_type": "code",
   "execution_count": 19,
   "id": "14504b12",
   "metadata": {},
   "outputs": [
    {
     "data": {
      "text/plain": [
       "1"
      ]
     },
     "execution_count": 19,
     "metadata": {},
     "output_type": "execute_result"
    }
   ],
   "source": [
    "arr1.ndim"
   ]
  },
  {
   "cell_type": "code",
   "execution_count": 20,
   "id": "242dbbee",
   "metadata": {},
   "outputs": [
    {
     "data": {
      "text/plain": [
       "array([1, 3, 3, 2, 9, 9])"
      ]
     },
     "execution_count": 20,
     "metadata": {},
     "output_type": "execute_result"
    }
   ],
   "source": [
    "arr1"
   ]
  },
  {
   "cell_type": "code",
   "execution_count": 21,
   "id": "26d5de64",
   "metadata": {},
   "outputs": [
    {
     "data": {
      "text/plain": [
       "(6,)"
      ]
     },
     "execution_count": 21,
     "metadata": {},
     "output_type": "execute_result"
    }
   ],
   "source": [
    "arr1.shape"
   ]
  },
  {
   "cell_type": "code",
   "execution_count": 24,
   "id": "cff2a1c6",
   "metadata": {},
   "outputs": [],
   "source": [
    "# Creation of numpy arrays\n",
    "# 1. by passing list to array() function of numpy\n",
    "# 2. using arange function\n",
    "# 3. using rand/randint functions"
   ]
  },
  {
   "cell_type": "code",
   "execution_count": 25,
   "id": "5a951831",
   "metadata": {},
   "outputs": [],
   "source": [
    "A1=np.array([1,2,3,4,5,6,7,8,9])"
   ]
  },
  {
   "cell_type": "code",
   "execution_count": 26,
   "id": "ee619301",
   "metadata": {},
   "outputs": [
    {
     "data": {
      "text/plain": [
       "array([1, 2, 3, 4, 5, 6, 7, 8, 9])"
      ]
     },
     "execution_count": 26,
     "metadata": {},
     "output_type": "execute_result"
    }
   ],
   "source": [
    "A1"
   ]
  },
  {
   "cell_type": "code",
   "execution_count": 27,
   "id": "62efe136",
   "metadata": {},
   "outputs": [],
   "source": [
    "A2=np.arange(1,26,2)"
   ]
  },
  {
   "cell_type": "code",
   "execution_count": 28,
   "id": "b4c39fc6",
   "metadata": {},
   "outputs": [
    {
     "data": {
      "text/plain": [
       "array([ 1,  3,  5,  7,  9, 11, 13, 15, 17, 19, 21, 23, 25])"
      ]
     },
     "execution_count": 28,
     "metadata": {},
     "output_type": "execute_result"
    }
   ],
   "source": [
    "A2"
   ]
  },
  {
   "cell_type": "code",
   "execution_count": 29,
   "id": "056dc7a0",
   "metadata": {},
   "outputs": [],
   "source": [
    "A3=np.random.randint(1,100,20)"
   ]
  },
  {
   "cell_type": "code",
   "execution_count": 30,
   "id": "829708d7",
   "metadata": {},
   "outputs": [
    {
     "data": {
      "text/plain": [
       "array([96, 55, 10, 71, 65, 38, 39,  6, 78, 72, 46, 67, 62, 47, 34, 27, 48,\n",
       "       86, 89, 72])"
      ]
     },
     "execution_count": 30,
     "metadata": {},
     "output_type": "execute_result"
    }
   ],
   "source": [
    "A3"
   ]
  },
  {
   "cell_type": "code",
   "execution_count": 31,
   "id": "867d05e2",
   "metadata": {},
   "outputs": [],
   "source": [
    "A4=np.random.rand(10)"
   ]
  },
  {
   "cell_type": "code",
   "execution_count": 32,
   "id": "b0b6884a",
   "metadata": {},
   "outputs": [
    {
     "data": {
      "text/plain": [
       "array([0.21643069, 0.26895617, 0.94042376, 0.56742053, 0.11016363,\n",
       "       0.93094616, 0.52903733, 0.61645193, 0.69949365, 0.02018663])"
      ]
     },
     "execution_count": 32,
     "metadata": {},
     "output_type": "execute_result"
    }
   ],
   "source": [
    "A4"
   ]
  },
  {
   "cell_type": "code",
   "execution_count": 33,
   "id": "2fcd7759",
   "metadata": {},
   "outputs": [],
   "source": [
    "# shaping array"
   ]
  },
  {
   "cell_type": "code",
   "execution_count": 35,
   "id": "a4d4e5e9",
   "metadata": {},
   "outputs": [],
   "source": [
    "A1=np.random.randint(1,100,(5,5))"
   ]
  },
  {
   "cell_type": "code",
   "execution_count": 36,
   "id": "88493e37",
   "metadata": {},
   "outputs": [
    {
     "data": {
      "text/plain": [
       "array([[67, 89, 30, 73, 95],\n",
       "       [26, 43, 89, 56, 34],\n",
       "       [55, 66, 21, 74, 89],\n",
       "       [41, 85, 24, 68, 68],\n",
       "       [44, 82, 25, 93,  1]])"
      ]
     },
     "execution_count": 36,
     "metadata": {},
     "output_type": "execute_result"
    }
   ],
   "source": [
    "A1"
   ]
  },
  {
   "cell_type": "code",
   "execution_count": 37,
   "id": "b72515b3",
   "metadata": {},
   "outputs": [],
   "source": [
    "A2=np.arange(1,100,3)"
   ]
  },
  {
   "cell_type": "code",
   "execution_count": 38,
   "id": "d3619319",
   "metadata": {},
   "outputs": [
    {
     "data": {
      "text/plain": [
       "array([ 1,  4,  7, 10, 13, 16, 19, 22, 25, 28, 31, 34, 37, 40, 43, 46, 49,\n",
       "       52, 55, 58, 61, 64, 67, 70, 73, 76, 79, 82, 85, 88, 91, 94, 97])"
      ]
     },
     "execution_count": 38,
     "metadata": {},
     "output_type": "execute_result"
    }
   ],
   "source": [
    "A2"
   ]
  },
  {
   "cell_type": "code",
   "execution_count": 39,
   "id": "29552130",
   "metadata": {},
   "outputs": [
    {
     "data": {
      "text/plain": [
       "33"
      ]
     },
     "execution_count": 39,
     "metadata": {},
     "output_type": "execute_result"
    }
   ],
   "source": [
    "A2.size"
   ]
  },
  {
   "cell_type": "code",
   "execution_count": 41,
   "id": "d975d81e",
   "metadata": {},
   "outputs": [],
   "source": [
    "A2.shape=(11,3)"
   ]
  },
  {
   "cell_type": "code",
   "execution_count": 42,
   "id": "58210c4c",
   "metadata": {},
   "outputs": [
    {
     "data": {
      "text/plain": [
       "array([[ 1,  4,  7],\n",
       "       [10, 13, 16],\n",
       "       [19, 22, 25],\n",
       "       [28, 31, 34],\n",
       "       [37, 40, 43],\n",
       "       [46, 49, 52],\n",
       "       [55, 58, 61],\n",
       "       [64, 67, 70],\n",
       "       [73, 76, 79],\n",
       "       [82, 85, 88],\n",
       "       [91, 94, 97]])"
      ]
     },
     "execution_count": 42,
     "metadata": {},
     "output_type": "execute_result"
    }
   ],
   "source": [
    "A2"
   ]
  },
  {
   "cell_type": "code",
   "execution_count": 43,
   "id": "4d3a4239",
   "metadata": {},
   "outputs": [
    {
     "data": {
      "text/plain": [
       "array([ 1,  4,  7, 10, 13, 16, 19, 22, 25, 28, 31, 34, 37, 40, 43, 46, 49,\n",
       "       52, 55, 58, 61, 64, 67, 70, 73, 76, 79, 82, 85, 88, 91, 94, 97])"
      ]
     },
     "execution_count": 43,
     "metadata": {},
     "output_type": "execute_result"
    }
   ],
   "source": [
    "A2.ravel()"
   ]
  },
  {
   "cell_type": "markdown",
   "id": "4745a894",
   "metadata": {},
   "source": [
    "# Aggregation functions"
   ]
  },
  {
   "cell_type": "code",
   "execution_count": 70,
   "id": "82d85457",
   "metadata": {},
   "outputs": [],
   "source": [
    "A1=np.arange(1,100,5)"
   ]
  },
  {
   "cell_type": "code",
   "execution_count": 71,
   "id": "385db3a4",
   "metadata": {},
   "outputs": [
    {
     "data": {
      "text/plain": [
       "array([ 1,  6, 11, 16, 21, 26, 31, 36, 41, 46, 51, 56, 61, 66, 71, 76, 81,\n",
       "       86, 91, 96])"
      ]
     },
     "execution_count": 71,
     "metadata": {},
     "output_type": "execute_result"
    }
   ],
   "source": [
    "A1"
   ]
  },
  {
   "cell_type": "code",
   "execution_count": 48,
   "id": "e518dbab",
   "metadata": {},
   "outputs": [
    {
     "data": {
      "text/plain": [
       "20"
      ]
     },
     "execution_count": 48,
     "metadata": {},
     "output_type": "execute_result"
    }
   ],
   "source": [
    "A1.size "
   ]
  },
  {
   "cell_type": "code",
   "execution_count": 49,
   "id": "3d75eb9a",
   "metadata": {},
   "outputs": [],
   "source": [
    "A1.shape=(5,4)"
   ]
  },
  {
   "cell_type": "code",
   "execution_count": 50,
   "id": "937a8847",
   "metadata": {},
   "outputs": [
    {
     "data": {
      "text/plain": [
       "array([[ 1,  6, 11, 16],\n",
       "       [21, 26, 31, 36],\n",
       "       [41, 46, 51, 56],\n",
       "       [61, 66, 71, 76],\n",
       "       [81, 86, 91, 96]])"
      ]
     },
     "execution_count": 50,
     "metadata": {},
     "output_type": "execute_result"
    }
   ],
   "source": [
    "A1"
   ]
  },
  {
   "cell_type": "code",
   "execution_count": 51,
   "id": "7be67dde",
   "metadata": {},
   "outputs": [
    {
     "data": {
      "text/plain": [
       "array([[ -1,  -6, -11, -16],\n",
       "       [-21, -26, -31, -36],\n",
       "       [-41, -46, -51, -56],\n",
       "       [-61, -66, -71, -76],\n",
       "       [-81, -86, -91, -96]])"
      ]
     },
     "execution_count": 51,
     "metadata": {},
     "output_type": "execute_result"
    }
   ],
   "source": [
    "A1*-1"
   ]
  },
  {
   "cell_type": "code",
   "execution_count": 52,
   "id": "7a063459",
   "metadata": {},
   "outputs": [
    {
     "data": {
      "text/plain": [
       "array([[ 1,  6, 11, 16],\n",
       "       [21, 26, 31, 36],\n",
       "       [41, 46, 51, 56],\n",
       "       [61, 66, 71, 76],\n",
       "       [81, 86, 91, 96]])"
      ]
     },
     "execution_count": 52,
     "metadata": {},
     "output_type": "execute_result"
    }
   ],
   "source": [
    "#original array do not change\n",
    "A1"
   ]
  },
  {
   "cell_type": "code",
   "execution_count": 53,
   "id": "60af3f75",
   "metadata": {},
   "outputs": [
    {
     "data": {
      "text/plain": [
       "1"
      ]
     },
     "execution_count": 53,
     "metadata": {},
     "output_type": "execute_result"
    }
   ],
   "source": [
    "A1.min()"
   ]
  },
  {
   "cell_type": "code",
   "execution_count": 54,
   "id": "e4b34c57",
   "metadata": {},
   "outputs": [
    {
     "data": {
      "text/plain": [
       "96"
      ]
     },
     "execution_count": 54,
     "metadata": {},
     "output_type": "execute_result"
    }
   ],
   "source": [
    "A1.max()"
   ]
  },
  {
   "cell_type": "code",
   "execution_count": 55,
   "id": "81284119",
   "metadata": {},
   "outputs": [
    {
     "data": {
      "text/plain": [
       "array([ 1,  6, 11, 16])"
      ]
     },
     "execution_count": 55,
     "metadata": {},
     "output_type": "execute_result"
    }
   ],
   "source": [
    "A1[0]"
   ]
  },
  {
   "cell_type": "code",
   "execution_count": 56,
   "id": "77dedc12",
   "metadata": {},
   "outputs": [
    {
     "data": {
      "text/plain": [
       "array([3, 3, 3, 3, 3], dtype=int64)"
      ]
     },
     "execution_count": 56,
     "metadata": {},
     "output_type": "execute_result"
    }
   ],
   "source": [
    "A1.argmax(axis=1)"
   ]
  },
  {
   "cell_type": "code",
   "execution_count": 57,
   "id": "f4595be1",
   "metadata": {},
   "outputs": [
    {
     "data": {
      "text/plain": [
       "array([16, 36, 56, 76, 96])"
      ]
     },
     "execution_count": 57,
     "metadata": {},
     "output_type": "execute_result"
    }
   ],
   "source": [
    "A1.max(axis=1)"
   ]
  },
  {
   "cell_type": "code",
   "execution_count": 58,
   "id": "8d049033",
   "metadata": {},
   "outputs": [
    {
     "data": {
      "text/plain": [
       "array([ 1,  6, 11, 16])"
      ]
     },
     "execution_count": 58,
     "metadata": {},
     "output_type": "execute_result"
    }
   ],
   "source": [
    "A1.min(axis=0)"
   ]
  },
  {
   "cell_type": "code",
   "execution_count": 60,
   "id": "1166164b",
   "metadata": {},
   "outputs": [
    {
     "data": {
      "text/plain": [
       "array([0, 0, 0, 0], dtype=int64)"
      ]
     },
     "execution_count": 60,
     "metadata": {},
     "output_type": "execute_result"
    }
   ],
   "source": [
    "A1.argmin(axis=0)"
   ]
  },
  {
   "cell_type": "code",
   "execution_count": 61,
   "id": "2cadc0b9",
   "metadata": {},
   "outputs": [
    {
     "data": {
      "text/plain": [
       "True"
      ]
     },
     "execution_count": 61,
     "metadata": {},
     "output_type": "execute_result"
    }
   ],
   "source": [
    "A1.all()"
   ]
  },
  {
   "cell_type": "code",
   "execution_count": 62,
   "id": "120efd38",
   "metadata": {},
   "outputs": [
    {
     "data": {
      "text/plain": [
       "array([ 1, 26, 51, 76])"
      ]
     },
     "execution_count": 62,
     "metadata": {},
     "output_type": "execute_result"
    }
   ],
   "source": [
    "A1.diagonal()"
   ]
  },
  {
   "cell_type": "code",
   "execution_count": 63,
   "id": "fc52c859",
   "metadata": {},
   "outputs": [
    {
     "data": {
      "text/plain": [
       "array([[0, 0, 0, 0],\n",
       "       [1, 1, 1, 1],\n",
       "       [2, 2, 2, 2],\n",
       "       [3, 3, 3, 3],\n",
       "       [4, 4, 4, 4]], dtype=int64)"
      ]
     },
     "execution_count": 63,
     "metadata": {},
     "output_type": "execute_result"
    }
   ],
   "source": [
    "A1.argsort(axis=0)"
   ]
  },
  {
   "cell_type": "code",
   "execution_count": 64,
   "id": "35ad2fbf",
   "metadata": {},
   "outputs": [],
   "source": [
    "A1.sort(axis=0)"
   ]
  },
  {
   "cell_type": "code",
   "execution_count": 65,
   "id": "b2bd9b00",
   "metadata": {},
   "outputs": [
    {
     "data": {
      "text/plain": [
       "array([[ 1,  6, 11, 16],\n",
       "       [21, 26, 31, 36],\n",
       "       [41, 46, 51, 56],\n",
       "       [61, 66, 71, 76],\n",
       "       [81, 86, 91, 96]])"
      ]
     },
     "execution_count": 65,
     "metadata": {},
     "output_type": "execute_result"
    }
   ],
   "source": [
    "A1"
   ]
  },
  {
   "cell_type": "code",
   "execution_count": 72,
   "id": "56d26c30",
   "metadata": {},
   "outputs": [
    {
     "data": {
      "text/plain": [
       "array([ 1,  6, 11, 16, 21, 26, 31, 36, 41, 46, 51, 56, 61, 66, 71, 76, 81,\n",
       "       86, 91, 96])"
      ]
     },
     "execution_count": 72,
     "metadata": {},
     "output_type": "execute_result"
    }
   ],
   "source": [
    "A1.flatten()"
   ]
  },
  {
   "cell_type": "code",
   "execution_count": 74,
   "id": "f8c3ad17",
   "metadata": {},
   "outputs": [],
   "source": [
    "A1.shape=(5,4)"
   ]
  },
  {
   "cell_type": "code",
   "execution_count": 77,
   "id": "b1d4f93b",
   "metadata": {},
   "outputs": [
    {
     "data": {
      "text/plain": [
       "array([[ 1,  6, 11, 16],\n",
       "       [21, 26, 31, 36],\n",
       "       [41, 46, 51, 56],\n",
       "       [61, 66, 71, 76],\n",
       "       [81, 86, 91, 96]])"
      ]
     },
     "execution_count": 77,
     "metadata": {},
     "output_type": "execute_result"
    }
   ],
   "source": [
    "A1"
   ]
  },
  {
   "cell_type": "code",
   "execution_count": 82,
   "id": "71b3f93b",
   "metadata": {},
   "outputs": [
    {
     "data": {
      "text/plain": [
       "1"
      ]
     },
     "execution_count": 82,
     "metadata": {},
     "output_type": "execute_result"
    }
   ],
   "source": [
    "A1[0][0]"
   ]
  },
  {
   "cell_type": "code",
   "execution_count": null,
   "id": "71d6abf4",
   "metadata": {},
   "outputs": [],
   "source": []
  },
  {
   "cell_type": "code",
   "execution_count": 84,
   "id": "e21153c5",
   "metadata": {},
   "outputs": [
    {
     "data": {
      "text/plain": [
       "1"
      ]
     },
     "execution_count": 84,
     "metadata": {},
     "output_type": "execute_result"
    }
   ],
   "source": [
    "A1.item(0)"
   ]
  },
  {
   "cell_type": "code",
   "execution_count": 85,
   "id": "37a83272",
   "metadata": {},
   "outputs": [
    {
     "data": {
      "text/plain": [
       "16"
      ]
     },
     "execution_count": 85,
     "metadata": {},
     "output_type": "execute_result"
    }
   ],
   "source": [
    "A1.item(3)"
   ]
  },
  {
   "cell_type": "code",
   "execution_count": 91,
   "id": "a263a27d",
   "metadata": {},
   "outputs": [],
   "source": [
    "A4=np.array([10,3,2,8,9,4,5,6,7,1])"
   ]
  },
  {
   "cell_type": "code",
   "execution_count": 94,
   "id": "e736c67d",
   "metadata": {},
   "outputs": [],
   "source": [
    "A4.partition(5) # it arranges the elements left of 5 --> less than 5\n",
    "                # and elements right of 5 ----> greater than 5"
   ]
  },
  {
   "cell_type": "code",
   "execution_count": 93,
   "id": "1a0f03f5",
   "metadata": {},
   "outputs": [
    {
     "data": {
      "text/plain": [
       "array([ 1,  2,  3,  4,  5,  6,  7,  8,  9, 10])"
      ]
     },
     "execution_count": 93,
     "metadata": {},
     "output_type": "execute_result"
    }
   ],
   "source": [
    "A4"
   ]
  },
  {
   "cell_type": "code",
   "execution_count": null,
   "id": "814a1427",
   "metadata": {},
   "outputs": [],
   "source": []
  },
  {
   "cell_type": "markdown",
   "id": "f2b55928",
   "metadata": {},
   "source": [
    "# Boradcasting on numpy arrays"
   ]
  },
  {
   "cell_type": "code",
   "execution_count": 95,
   "id": "adf61275",
   "metadata": {},
   "outputs": [],
   "source": [
    "A_1=np.array([[1,1],[2,2],[3,3]])"
   ]
  },
  {
   "cell_type": "code",
   "execution_count": 96,
   "id": "0b8eb68f",
   "metadata": {},
   "outputs": [
    {
     "data": {
      "text/plain": [
       "array([[1, 1],\n",
       "       [2, 2],\n",
       "       [3, 3]])"
      ]
     },
     "execution_count": 96,
     "metadata": {},
     "output_type": "execute_result"
    }
   ],
   "source": [
    "A_1"
   ]
  },
  {
   "cell_type": "code",
   "execution_count": 97,
   "id": "2bbe72e5",
   "metadata": {},
   "outputs": [
    {
     "data": {
      "text/plain": [
       "array([[11, 11],\n",
       "       [12, 12],\n",
       "       [13, 13]])"
      ]
     },
     "execution_count": 97,
     "metadata": {},
     "output_type": "execute_result"
    }
   ],
   "source": [
    "A_1+[10,10]"
   ]
  },
  {
   "cell_type": "code",
   "execution_count": 99,
   "id": "3622da0f",
   "metadata": {},
   "outputs": [
    {
     "data": {
      "text/plain": [
       "array([[11, 11],\n",
       "       [12, 12],\n",
       "       [13, 13]])"
      ]
     },
     "execution_count": 99,
     "metadata": {},
     "output_type": "execute_result"
    }
   ],
   "source": [
    "A_1+10"
   ]
  },
  {
   "cell_type": "code",
   "execution_count": 100,
   "id": "093fd13a",
   "metadata": {},
   "outputs": [
    {
     "data": {
      "text/plain": [
       "array([[11, 11],\n",
       "       [12, 12],\n",
       "       [13, 13]])"
      ]
     },
     "execution_count": 100,
     "metadata": {},
     "output_type": "execute_result"
    }
   ],
   "source": [
    "A_1+np.array([[10],[10],[10]])"
   ]
  },
  {
   "cell_type": "code",
   "execution_count": 101,
   "id": "2234a66b",
   "metadata": {},
   "outputs": [],
   "source": [
    "A_random=np.random.randint(1,100,(5,5))"
   ]
  },
  {
   "cell_type": "code",
   "execution_count": 102,
   "id": "13fd707b",
   "metadata": {},
   "outputs": [
    {
     "data": {
      "text/plain": [
       "array([[30, 53, 84, 88, 52],\n",
       "       [13, 71, 32, 95, 71],\n",
       "       [55, 82, 26, 17, 38],\n",
       "       [18, 93, 80, 16, 55],\n",
       "       [32, 38, 18, 93, 64]])"
      ]
     },
     "execution_count": 102,
     "metadata": {},
     "output_type": "execute_result"
    }
   ],
   "source": [
    "A_random"
   ]
  },
  {
   "cell_type": "code",
   "execution_count": 109,
   "id": "0a38982c",
   "metadata": {},
   "outputs": [
    {
     "data": {
      "text/plain": [
       "array([[29, 52, 83, 87, 51],\n",
       "       [12, 70, 31, 94, 70],\n",
       "       [54, 81, 25, 16, 37],\n",
       "       [17, 92, 79, 15, 54],\n",
       "       [31, 37, 17, 92, 63]])"
      ]
     },
     "execution_count": 109,
     "metadata": {},
     "output_type": "execute_result"
    }
   ],
   "source": [
    "A_random-1"
   ]
  },
  {
   "cell_type": "code",
   "execution_count": 110,
   "id": "73c7cd54",
   "metadata": {},
   "outputs": [
    {
     "data": {
      "text/plain": [
       "array([13, 17, 18, 16, 18])"
      ]
     },
     "execution_count": 110,
     "metadata": {},
     "output_type": "execute_result"
    }
   ],
   "source": [
    "A_random[A_random<20]"
   ]
  },
  {
   "cell_type": "code",
   "execution_count": 112,
   "id": "a96e4e4d",
   "metadata": {},
   "outputs": [
    {
     "data": {
      "text/plain": [
       "array([[30, 53, 84, 88, 52],\n",
       "       [13, 71, 32, 95, 71],\n",
       "       [55, 82, 26, 17, 38],\n",
       "       [18, 93, 80, 16, 55],\n",
       "       [32, 38, 18, 93, 64]])"
      ]
     },
     "execution_count": 112,
     "metadata": {},
     "output_type": "execute_result"
    }
   ],
   "source": [
    "A_random"
   ]
  },
  {
   "cell_type": "code",
   "execution_count": 119,
   "id": "cb48e7e4",
   "metadata": {},
   "outputs": [
    {
     "data": {
      "text/plain": [
       "array([13, 38, 18, 16, 38])"
      ]
     },
     "execution_count": 119,
     "metadata": {},
     "output_type": "execute_result"
    }
   ],
   "source": [
    "A_random.min(axis=0)"
   ]
  },
  {
   "cell_type": "code",
   "execution_count": 122,
   "id": "886788f3",
   "metadata": {},
   "outputs": [],
   "source": [
    "new=A_random.flatten()"
   ]
  },
  {
   "cell_type": "code",
   "execution_count": 123,
   "id": "f9ca1ab2",
   "metadata": {},
   "outputs": [
    {
     "data": {
      "text/plain": [
       "array([30, 53, 84, 88, 52, 13, 71, 32, 95, 71, 55, 82, 26, 17, 38, 18, 93,\n",
       "       80, 16, 55, 32, 38, 18, 93, 64])"
      ]
     },
     "execution_count": 123,
     "metadata": {},
     "output_type": "execute_result"
    }
   ],
   "source": [
    "new"
   ]
  },
  {
   "cell_type": "code",
   "execution_count": 127,
   "id": "cebda38c",
   "metadata": {},
   "outputs": [
    {
     "data": {
      "text/plain": [
       "array([30, 53, 52, 71, 32, 71, 55, 26, 38, 55, 32, 38, 64])"
      ]
     },
     "execution_count": 127,
     "metadata": {},
     "output_type": "execute_result"
    }
   ],
   "source": [
    "new[(new>20) & (new<80)]"
   ]
  },
  {
   "cell_type": "code",
   "execution_count": 130,
   "id": "65a3e47c",
   "metadata": {},
   "outputs": [
    {
     "data": {
      "text/plain": [
       "array(['more', 'more', 'more', 'more', 'more', 'less', 'more', 'more',\n",
       "       'more', 'more', 'more', 'more', 'more', 'less', 'more', 'less',\n",
       "       'more', 'more', 'less', 'more', 'more', 'more', 'less', 'more',\n",
       "       'more'], dtype='<U4')"
      ]
     },
     "execution_count": 130,
     "metadata": {},
     "output_type": "execute_result"
    }
   ],
   "source": [
    "np.where(new<20,'less','more')"
   ]
  },
  {
   "cell_type": "code",
   "execution_count": 135,
   "id": "0293d0f9",
   "metadata": {},
   "outputs": [
    {
     "data": {
      "text/plain": [
       "25"
      ]
     },
     "execution_count": 135,
     "metadata": {},
     "output_type": "execute_result"
    }
   ],
   "source": [
    "new.size"
   ]
  },
  {
   "cell_type": "code",
   "execution_count": 1,
   "id": "345315c6",
   "metadata": {},
   "outputs": [
    {
     "name": "stdout",
     "output_type": "stream",
     "text": [
      "CPU times: total: 0 ns\n",
      "Wall time: 0 ns\n"
     ]
    }
   ],
   "source": [
    "%time"
   ]
  },
  {
   "cell_type": "code",
   "execution_count": 7,
   "id": "ec751394",
   "metadata": {},
   "outputs": [
    {
     "name": "stdout",
     "output_type": "stream",
     "text": [
      "CPU times: total: 0 ns\n",
      "Wall time: 0 ns\n"
     ]
    }
   ],
   "source": [
    "%%time\n",
    "a=10\n",
    "b=100"
   ]
  },
  {
   "cell_type": "markdown",
   "id": "03b92234",
   "metadata": {},
   "source": [
    "# in numpy Memory management is in our hand"
   ]
  },
  {
   "cell_type": "code",
   "execution_count": 8,
   "id": "a3c43156",
   "metadata": {},
   "outputs": [],
   "source": [
    "import numpy as np"
   ]
  },
  {
   "cell_type": "code",
   "execution_count": 11,
   "id": "7a5c137b",
   "metadata": {},
   "outputs": [],
   "source": [
    "arr=np.array([1,2,3,4],dtype='int8')  ##### or we can also say 'np.int16'"
   ]
  },
  {
   "cell_type": "code",
   "execution_count": 12,
   "id": "fdaab169",
   "metadata": {},
   "outputs": [
    {
     "data": {
      "text/plain": [
       "array([1, 2, 3, 4], dtype=int8)"
      ]
     },
     "execution_count": 12,
     "metadata": {},
     "output_type": "execute_result"
    }
   ],
   "source": [
    "arr"
   ]
  },
  {
   "cell_type": "code",
   "execution_count": 13,
   "id": "37711b45",
   "metadata": {},
   "outputs": [],
   "source": [
    "arr=np.array([1,2,3,4],dtype='int32')"
   ]
  },
  {
   "cell_type": "code",
   "execution_count": 15,
   "id": "488beea9",
   "metadata": {},
   "outputs": [],
   "source": [
    "arr=np.array([1,2,3,4],dtype='int64')"
   ]
  },
  {
   "cell_type": "code",
   "execution_count": 16,
   "id": "6ede8875",
   "metadata": {},
   "outputs": [],
   "source": [
    "## as given above, we can varry the size of int variable from 8 bit to 64 bits .. ----> memory management************"
   ]
  },
  {
   "cell_type": "code",
   "execution_count": null,
   "id": "47b52ced",
   "metadata": {},
   "outputs": [],
   "source": []
  },
  {
   "cell_type": "markdown",
   "id": "95d85ab9",
   "metadata": {},
   "source": [
    "# Create numpy arrays using tuples"
   ]
  },
  {
   "cell_type": "code",
   "execution_count": 17,
   "id": "dcfbe3fa",
   "metadata": {},
   "outputs": [
    {
     "data": {
      "text/plain": [
       "array([10, 20, 30], dtype=int16)"
      ]
     },
     "execution_count": 17,
     "metadata": {},
     "output_type": "execute_result"
    }
   ],
   "source": [
    "np.array((10,20,30),dtype='int16')"
   ]
  },
  {
   "cell_type": "code",
   "execution_count": 18,
   "id": "3ad5a48e",
   "metadata": {},
   "outputs": [
    {
     "data": {
      "text/plain": [
       "array([10, 20, 30], dtype=int16)"
      ]
     },
     "execution_count": 18,
     "metadata": {},
     "output_type": "execute_result"
    }
   ],
   "source": [
    "np.array([10,20,30],dtype='int16')"
   ]
  },
  {
   "cell_type": "code",
   "execution_count": 19,
   "id": "44b1c7ad",
   "metadata": {},
   "outputs": [],
   "source": [
    "d={'1':100,'2':200,'3':300}"
   ]
  },
  {
   "cell_type": "code",
   "execution_count": 20,
   "id": "4f06b543",
   "metadata": {},
   "outputs": [
    {
     "data": {
      "text/plain": [
       "array({'1': 100, '2': 200, '3': 300}, dtype=object)"
      ]
     },
     "execution_count": 20,
     "metadata": {},
     "output_type": "execute_result"
    }
   ],
   "source": [
    "np.array(d)"
   ]
  },
  {
   "cell_type": "code",
   "execution_count": 21,
   "id": "ccfc8462",
   "metadata": {},
   "outputs": [
    {
     "data": {
      "text/plain": [
       "array([[0., 0., 0., 0., 0.],\n",
       "       [0., 0., 0., 0., 0.],\n",
       "       [0., 0., 0., 0., 0.],\n",
       "       [0., 0., 0., 0., 0.],\n",
       "       [0., 0., 0., 0., 0.]])"
      ]
     },
     "execution_count": 21,
     "metadata": {},
     "output_type": "execute_result"
    }
   ],
   "source": [
    "np.zeros((5,5))"
   ]
  },
  {
   "cell_type": "code",
   "execution_count": 23,
   "id": "bfbdad4d",
   "metadata": {},
   "outputs": [
    {
     "data": {
      "text/plain": [
       "array([[1, 1, 1],\n",
       "       [1, 1, 1],\n",
       "       [1, 1, 1]])"
      ]
     },
     "execution_count": 23,
     "metadata": {},
     "output_type": "execute_result"
    }
   ],
   "source": [
    "np.ones((3,3),dtype='int')"
   ]
  },
  {
   "cell_type": "code",
   "execution_count": 26,
   "id": "f141720c",
   "metadata": {},
   "outputs": [],
   "source": [
    "n1=np.arange(1,100,5)"
   ]
  },
  {
   "cell_type": "code",
   "execution_count": 27,
   "id": "ebde46bd",
   "metadata": {},
   "outputs": [
    {
     "data": {
      "text/plain": [
       "array([ 1,  6, 11, 16, 21, 26, 31, 36, 41, 46, 51, 56, 61, 66, 71, 76, 81,\n",
       "       86, 91, 96])"
      ]
     },
     "execution_count": 27,
     "metadata": {},
     "output_type": "execute_result"
    }
   ],
   "source": [
    "n1"
   ]
  },
  {
   "cell_type": "code",
   "execution_count": 28,
   "id": "94763e5c",
   "metadata": {},
   "outputs": [
    {
     "data": {
      "text/plain": [
       "20"
      ]
     },
     "execution_count": 28,
     "metadata": {},
     "output_type": "execute_result"
    }
   ],
   "source": [
    "n1.size"
   ]
  },
  {
   "cell_type": "code",
   "execution_count": 29,
   "id": "10e88001",
   "metadata": {},
   "outputs": [],
   "source": [
    "n1.shape=(5,4)"
   ]
  },
  {
   "cell_type": "code",
   "execution_count": 30,
   "id": "81eb4d5a",
   "metadata": {},
   "outputs": [
    {
     "data": {
      "text/plain": [
       "array([[ 1,  6, 11, 16],\n",
       "       [21, 26, 31, 36],\n",
       "       [41, 46, 51, 56],\n",
       "       [61, 66, 71, 76],\n",
       "       [81, 86, 91, 96]])"
      ]
     },
     "execution_count": 30,
     "metadata": {},
     "output_type": "execute_result"
    }
   ],
   "source": [
    "n1"
   ]
  },
  {
   "cell_type": "code",
   "execution_count": 37,
   "id": "01154b55",
   "metadata": {},
   "outputs": [],
   "source": [
    "prototype=np.empty((5,5),dtype='int8')"
   ]
  },
  {
   "cell_type": "code",
   "execution_count": 38,
   "id": "c51a32ca",
   "metadata": {},
   "outputs": [
    {
     "data": {
      "text/plain": [
       "array([[ 92,   0,  63,   0,  63],\n",
       "       [  0,  92,   0,  67,   0],\n",
       "       [ 58,   0,  92,   0,  85],\n",
       "       [  0, 115,   0, 101,   0],\n",
       "       [114,   0, 115,   0,  92]], dtype=int8)"
      ]
     },
     "execution_count": 38,
     "metadata": {},
     "output_type": "execute_result"
    }
   ],
   "source": [
    "prototype"
   ]
  },
  {
   "cell_type": "code",
   "execution_count": 35,
   "id": "a8a33b59",
   "metadata": {},
   "outputs": [
    {
     "data": {
      "text/plain": [
       "array([[1173710064,        345,    3801155],\n",
       "       [   5570652,    6619251,    7536754],\n",
       "       [   6357084,    7274605,        108]])"
      ]
     },
     "execution_count": 35,
     "metadata": {},
     "output_type": "execute_result"
    }
   ],
   "source": [
    "np.empty_like(([[1,2,3],\n",
    "               [1,2,3],\n",
    "               [1,2,3],]))"
   ]
  },
  {
   "cell_type": "code",
   "execution_count": 39,
   "id": "99b43b8b",
   "metadata": {},
   "outputs": [
    {
     "data": {
      "text/plain": [
       "array([[ 92,   0,  63,   0,  63],\n",
       "       [  0,  92,   0,  67,   0],\n",
       "       [ 58,   0,  92,   0,  85],\n",
       "       [  0, 115,   0, 101,   0],\n",
       "       [114,   0, 115,   0,  92]], dtype=int8)"
      ]
     },
     "execution_count": 39,
     "metadata": {},
     "output_type": "execute_result"
    }
   ],
   "source": [
    "np.empty_like(prototype)"
   ]
  },
  {
   "cell_type": "code",
   "execution_count": 40,
   "id": "52a72523",
   "metadata": {},
   "outputs": [
    {
     "data": {
      "text/plain": [
       "array([[ 1,  6, 11, 16],\n",
       "       [21, 26, 31, 36],\n",
       "       [41, 46, 51, 56],\n",
       "       [61, 66, 71, 76],\n",
       "       [81, 86, 91, 96]])"
      ]
     },
     "execution_count": 40,
     "metadata": {},
     "output_type": "execute_result"
    }
   ],
   "source": [
    "n1"
   ]
  },
  {
   "cell_type": "code",
   "execution_count": 43,
   "id": "c7bffe03",
   "metadata": {},
   "outputs": [
    {
     "data": {
      "text/plain": [
       "array([[ 1,  6, 11, 16],\n",
       "       [21, 26, 31, 36],\n",
       "       [41, 46, 51, 56],\n",
       "       [61, 66, 71, 76],\n",
       "       [81, 86, 91, 96]])"
      ]
     },
     "execution_count": 43,
     "metadata": {},
     "output_type": "execute_result"
    }
   ],
   "source": [
    "n1"
   ]
  },
  {
   "cell_type": "code",
   "execution_count": 45,
   "id": "134010c1",
   "metadata": {},
   "outputs": [
    {
     "data": {
      "text/plain": [
       "(array([3, 3, 3, 3, 4, 4, 4, 4], dtype=int64),\n",
       " array([0, 1, 2, 3, 0, 1, 2, 3], dtype=int64))"
      ]
     },
     "execution_count": 45,
     "metadata": {},
     "output_type": "execute_result"
    }
   ],
   "source": [
    "np.where(n1>60)"
   ]
  },
  {
   "cell_type": "code",
   "execution_count": null,
   "id": "c596eaae",
   "metadata": {},
   "outputs": [],
   "source": []
  },
  {
   "cell_type": "markdown",
   "id": "9ce3729a",
   "metadata": {},
   "source": [
    "# how np array is efficient in size compared to python array"
   ]
  },
  {
   "cell_type": "code",
   "execution_count": 46,
   "id": "86077ceb",
   "metadata": {},
   "outputs": [],
   "source": [
    "import sys"
   ]
  },
  {
   "cell_type": "code",
   "execution_count": 55,
   "id": "eda57249",
   "metadata": {},
   "outputs": [],
   "source": [
    "py_array=[1,2,3,4]"
   ]
  },
  {
   "cell_type": "code",
   "execution_count": 58,
   "id": "5a520b8a",
   "metadata": {},
   "outputs": [
    {
     "data": {
      "text/plain": [
       "112"
      ]
     },
     "execution_count": 58,
     "metadata": {},
     "output_type": "execute_result"
    }
   ],
   "source": [
    "sys.getsizeof(py_array[0])*len(py_array)"
   ]
  },
  {
   "cell_type": "code",
   "execution_count": 51,
   "id": "3436e178",
   "metadata": {},
   "outputs": [],
   "source": [
    "np_array=np.array([1,2,3,4,5])"
   ]
  },
  {
   "cell_type": "code",
   "execution_count": 59,
   "id": "0ca02f36",
   "metadata": {},
   "outputs": [
    {
     "data": {
      "text/plain": [
       "20"
      ]
     },
     "execution_count": 59,
     "metadata": {},
     "output_type": "execute_result"
    }
   ],
   "source": [
    "np_array.itemsize*np_array.size"
   ]
  },
  {
   "cell_type": "code",
   "execution_count": null,
   "id": "487ee813",
   "metadata": {},
   "outputs": [],
   "source": []
  },
  {
   "cell_type": "code",
   "execution_count": null,
   "id": "e86b8e36",
   "metadata": {},
   "outputs": [],
   "source": []
  },
  {
   "cell_type": "code",
   "execution_count": null,
   "id": "6a67998f",
   "metadata": {},
   "outputs": [],
   "source": []
  },
  {
   "cell_type": "code",
   "execution_count": null,
   "id": "9f935215",
   "metadata": {},
   "outputs": [],
   "source": []
  },
  {
   "cell_type": "code",
   "execution_count": null,
   "id": "0b1fe8ff",
   "metadata": {},
   "outputs": [],
   "source": []
  },
  {
   "cell_type": "code",
   "execution_count": null,
   "id": "7673cafc",
   "metadata": {},
   "outputs": [],
   "source": []
  },
  {
   "cell_type": "code",
   "execution_count": null,
   "id": "fc95da94",
   "metadata": {},
   "outputs": [],
   "source": []
  },
  {
   "cell_type": "code",
   "execution_count": null,
   "id": "69a3cd0a",
   "metadata": {},
   "outputs": [],
   "source": []
  },
  {
   "cell_type": "code",
   "execution_count": null,
   "id": "7ef18563",
   "metadata": {},
   "outputs": [],
   "source": []
  },
  {
   "cell_type": "code",
   "execution_count": null,
   "id": "0bc478c7",
   "metadata": {},
   "outputs": [],
   "source": []
  },
  {
   "cell_type": "code",
   "execution_count": null,
   "id": "403be52a",
   "metadata": {},
   "outputs": [],
   "source": []
  },
  {
   "cell_type": "code",
   "execution_count": null,
   "id": "92d3269c",
   "metadata": {},
   "outputs": [],
   "source": []
  },
  {
   "cell_type": "code",
   "execution_count": null,
   "id": "69c094b8",
   "metadata": {},
   "outputs": [],
   "source": []
  },
  {
   "cell_type": "code",
   "execution_count": null,
   "id": "c06da83d",
   "metadata": {},
   "outputs": [],
   "source": []
  },
  {
   "cell_type": "code",
   "execution_count": null,
   "id": "d52b3d03",
   "metadata": {},
   "outputs": [],
   "source": []
  },
  {
   "cell_type": "code",
   "execution_count": null,
   "id": "f00ac364",
   "metadata": {},
   "outputs": [],
   "source": []
  },
  {
   "cell_type": "code",
   "execution_count": null,
   "id": "b7781fc2",
   "metadata": {},
   "outputs": [],
   "source": []
  },
  {
   "cell_type": "code",
   "execution_count": null,
   "id": "cc56759e",
   "metadata": {},
   "outputs": [],
   "source": []
  },
  {
   "cell_type": "code",
   "execution_count": null,
   "id": "6da42fb8",
   "metadata": {},
   "outputs": [],
   "source": []
  },
  {
   "cell_type": "code",
   "execution_count": null,
   "id": "18972907",
   "metadata": {},
   "outputs": [],
   "source": []
  },
  {
   "cell_type": "code",
   "execution_count": null,
   "id": "abe041a3",
   "metadata": {},
   "outputs": [],
   "source": []
  },
  {
   "cell_type": "code",
   "execution_count": null,
   "id": "a4c1d092",
   "metadata": {},
   "outputs": [],
   "source": []
  }
 ],
 "metadata": {
  "kernelspec": {
   "display_name": "Python 3 (ipykernel)",
   "language": "python",
   "name": "python3"
  },
  "language_info": {
   "codemirror_mode": {
    "name": "ipython",
    "version": 3
   },
   "file_extension": ".py",
   "mimetype": "text/x-python",
   "name": "python",
   "nbconvert_exporter": "python",
   "pygments_lexer": "ipython3",
   "version": "3.9.12"
  }
 },
 "nbformat": 4,
 "nbformat_minor": 5
}
