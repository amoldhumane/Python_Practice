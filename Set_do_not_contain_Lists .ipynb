{
 "cells": [
  {
   "cell_type": "code",
   "execution_count": 4,
   "id": "bcb33505",
   "metadata": {},
   "outputs": [],
   "source": [
    "s1={1,2,3}"
   ]
  },
  {
   "cell_type": "code",
   "execution_count": 5,
   "id": "76dce921",
   "metadata": {},
   "outputs": [],
   "source": [
    "s1={'amol',1.14,10}"
   ]
  },
  {
   "cell_type": "code",
   "execution_count": 7,
   "id": "a0f4604c",
   "metadata": {},
   "outputs": [],
   "source": [
    "s1={(1,2,3),4,5,'Awana'}"
   ]
  },
  {
   "cell_type": "code",
   "execution_count": null,
   "id": "8b435e8a",
   "metadata": {},
   "outputs": [],
   "source": []
  },
  {
   "cell_type": "markdown",
   "id": "58d2b849",
   "metadata": {},
   "source": [
    "# Check this.."
   ]
  },
  {
   "cell_type": "markdown",
   "id": "fff0b275",
   "metadata": {},
   "source": [
    "### ***Set do not contain List***"
   ]
  },
  {
   "cell_type": "code",
   "execution_count": 8,
   "id": "e638f48d",
   "metadata": {},
   "outputs": [
    {
     "ename": "TypeError",
     "evalue": "unhashable type: 'list'",
     "output_type": "error",
     "traceback": [
      "\u001b[1;31m---------------------------------------------------------------------------\u001b[0m",
      "\u001b[1;31mTypeError\u001b[0m                                 Traceback (most recent call last)",
      "Input \u001b[1;32mIn [8]\u001b[0m, in \u001b[0;36m<cell line: 1>\u001b[1;34m()\u001b[0m\n\u001b[1;32m----> 1\u001b[0m s1\u001b[38;5;241m=\u001b[39m{\u001b[38;5;241m1\u001b[39m,\u001b[38;5;241m2\u001b[39m,\u001b[38;5;241m3\u001b[39m,(\u001b[38;5;241m1\u001b[39m,\u001b[38;5;241m2\u001b[39m,\u001b[38;5;241m3\u001b[39m),[\u001b[38;5;241m1\u001b[39m,\u001b[38;5;241m2\u001b[39m,\u001b[38;5;241m3\u001b[39m],\u001b[38;5;124m'\u001b[39m\u001b[38;5;124mhi\u001b[39m\u001b[38;5;124m'\u001b[39m}\n",
      "\u001b[1;31mTypeError\u001b[0m: unhashable type: 'list'"
     ]
    }
   ],
   "source": [
    "s1={1,2,3,(1,2,3),[1,2,3],'hi'}"
   ]
  },
  {
   "cell_type": "code",
   "execution_count": null,
   "id": "561178fe",
   "metadata": {},
   "outputs": [],
   "source": []
  },
  {
   "cell_type": "markdown",
   "id": "4d3f0cd7",
   "metadata": {},
   "source": [
    "### we can add only immutable objects in the set. As tuple is immutable, it can be an element of the set, but as list is mutable it can not be a part of set"
   ]
  }
 ],
 "metadata": {
  "kernelspec": {
   "display_name": "Python 3 (ipykernel)",
   "language": "python",
   "name": "python3"
  },
  "language_info": {
   "codemirror_mode": {
    "name": "ipython",
    "version": 3
   },
   "file_extension": ".py",
   "mimetype": "text/x-python",
   "name": "python",
   "nbconvert_exporter": "python",
   "pygments_lexer": "ipython3",
   "version": "3.9.12"
  }
 },
 "nbformat": 4,
 "nbformat_minor": 5
}
