{
 "cells": [
  {
   "cell_type": "code",
   "execution_count": 3,
   "id": "edcbcfe1",
   "metadata": {},
   "outputs": [],
   "source": [
    "import pandas as pd\n",
    "import numpy as np"
   ]
  },
  {
   "cell_type": "markdown",
   "id": "6083fb90",
   "metadata": {},
   "source": [
    "'''\n",
    "Pandas contain 2 DataStructures\n",
    "    -> Series (1-D array or Vector)\n",
    "    -> Dataframe (2-D or matrix)\n",
    "\n",
    "Series and Dataframe contains:\n",
    "    -> default and\n",
    "    -> key indexing\n",
    "'''"
   ]
  },
  {
   "cell_type": "markdown",
   "id": "d055f825",
   "metadata": {},
   "source": [
    "# Create Dataframe Manuallly"
   ]
  },
  {
   "cell_type": "code",
   "execution_count": 5,
   "id": "3c27899b",
   "metadata": {},
   "outputs": [],
   "source": [
    "data=np.array([[12,'Awaneesh',98.99],\n",
    "         [13,'Amol',90.87],\n",
    "         [14,'Ashwini',91.99],\n",
    "         [15,'Ameya',94.77]])"
   ]
  },
  {
   "cell_type": "code",
   "execution_count": 6,
   "id": "dda2bf52",
   "metadata": {},
   "outputs": [
    {
     "data": {
      "text/plain": [
       "(4, 3)"
      ]
     },
     "execution_count": 6,
     "metadata": {},
     "output_type": "execute_result"
    }
   ],
   "source": [
    "data.shape"
   ]
  },
  {
   "cell_type": "code",
   "execution_count": 15,
   "id": "8322ae31",
   "metadata": {},
   "outputs": [],
   "source": [
    "column=['Roll','Name','Percentage']\n",
    "index1=['Row1','Row2','Row3','Row4']  ################### Key indexing is used"
   ]
  },
  {
   "cell_type": "code",
   "execution_count": 65,
   "id": "92885b45",
   "metadata": {},
   "outputs": [],
   "source": [
    "df=pd.DataFrame(data,columns=column,index=index1)"
   ]
  },
  {
   "cell_type": "code",
   "execution_count": 66,
   "id": "47e8a866",
   "metadata": {},
   "outputs": [
    {
     "data": {
      "text/html": [
       "<div>\n",
       "<style scoped>\n",
       "    .dataframe tbody tr th:only-of-type {\n",
       "        vertical-align: middle;\n",
       "    }\n",
       "\n",
       "    .dataframe tbody tr th {\n",
       "        vertical-align: top;\n",
       "    }\n",
       "\n",
       "    .dataframe thead th {\n",
       "        text-align: right;\n",
       "    }\n",
       "</style>\n",
       "<table border=\"1\" class=\"dataframe\">\n",
       "  <thead>\n",
       "    <tr style=\"text-align: right;\">\n",
       "      <th></th>\n",
       "      <th>Roll</th>\n",
       "      <th>Name</th>\n",
       "      <th>Percentage</th>\n",
       "    </tr>\n",
       "  </thead>\n",
       "  <tbody>\n",
       "    <tr>\n",
       "      <th>Row1</th>\n",
       "      <td>12</td>\n",
       "      <td>Awaneesh</td>\n",
       "      <td>98.99</td>\n",
       "    </tr>\n",
       "    <tr>\n",
       "      <th>Row2</th>\n",
       "      <td>13</td>\n",
       "      <td>Amol</td>\n",
       "      <td>90.87</td>\n",
       "    </tr>\n",
       "    <tr>\n",
       "      <th>Row3</th>\n",
       "      <td>14</td>\n",
       "      <td>Ashwini</td>\n",
       "      <td>91.99</td>\n",
       "    </tr>\n",
       "    <tr>\n",
       "      <th>Row4</th>\n",
       "      <td>15</td>\n",
       "      <td>Ameya</td>\n",
       "      <td>94.77</td>\n",
       "    </tr>\n",
       "  </tbody>\n",
       "</table>\n",
       "</div>"
      ],
      "text/plain": [
       "     Roll      Name Percentage\n",
       "Row1   12  Awaneesh      98.99\n",
       "Row2   13      Amol      90.87\n",
       "Row3   14   Ashwini      91.99\n",
       "Row4   15     Ameya      94.77"
      ]
     },
     "execution_count": 66,
     "metadata": {},
     "output_type": "execute_result"
    }
   ],
   "source": [
    "df"
   ]
  },
  {
   "cell_type": "code",
   "execution_count": 36,
   "id": "4ed170e0",
   "metadata": {},
   "outputs": [
    {
     "data": {
      "text/plain": [
       "pandas.core.frame.DataFrame"
      ]
     },
     "execution_count": 36,
     "metadata": {},
     "output_type": "execute_result"
    }
   ],
   "source": [
    "type(df)"
   ]
  },
  {
   "cell_type": "markdown",
   "id": "4088bf52",
   "metadata": {},
   "source": [
    "##### Dataframe using default indexing ----------------------------------------------------------------------------"
   ]
  },
  {
   "cell_type": "code",
   "execution_count": 60,
   "id": "5ee379eb",
   "metadata": {},
   "outputs": [],
   "source": [
    "df2=pd.DataFrame(data=data,columns=column) ### default indexing is used"
   ]
  },
  {
   "cell_type": "code",
   "execution_count": 61,
   "id": "fd8cddbe",
   "metadata": {},
   "outputs": [
    {
     "data": {
      "text/html": [
       "<div>\n",
       "<style scoped>\n",
       "    .dataframe tbody tr th:only-of-type {\n",
       "        vertical-align: middle;\n",
       "    }\n",
       "\n",
       "    .dataframe tbody tr th {\n",
       "        vertical-align: top;\n",
       "    }\n",
       "\n",
       "    .dataframe thead th {\n",
       "        text-align: right;\n",
       "    }\n",
       "</style>\n",
       "<table border=\"1\" class=\"dataframe\">\n",
       "  <thead>\n",
       "    <tr style=\"text-align: right;\">\n",
       "      <th></th>\n",
       "      <th>Roll</th>\n",
       "      <th>Name</th>\n",
       "      <th>Percentage</th>\n",
       "    </tr>\n",
       "  </thead>\n",
       "  <tbody>\n",
       "    <tr>\n",
       "      <th>0</th>\n",
       "      <td>12</td>\n",
       "      <td>Awaneesh</td>\n",
       "      <td>98.99</td>\n",
       "    </tr>\n",
       "    <tr>\n",
       "      <th>1</th>\n",
       "      <td>13</td>\n",
       "      <td>Amol</td>\n",
       "      <td>90.87</td>\n",
       "    </tr>\n",
       "    <tr>\n",
       "      <th>2</th>\n",
       "      <td>14</td>\n",
       "      <td>Ashwini</td>\n",
       "      <td>91.99</td>\n",
       "    </tr>\n",
       "    <tr>\n",
       "      <th>3</th>\n",
       "      <td>15</td>\n",
       "      <td>Ameya</td>\n",
       "      <td>94.77</td>\n",
       "    </tr>\n",
       "  </tbody>\n",
       "</table>\n",
       "</div>"
      ],
      "text/plain": [
       "  Roll      Name Percentage\n",
       "0   12  Awaneesh      98.99\n",
       "1   13      Amol      90.87\n",
       "2   14   Ashwini      91.99\n",
       "3   15     Ameya      94.77"
      ]
     },
     "execution_count": 61,
     "metadata": {},
     "output_type": "execute_result"
    }
   ],
   "source": [
    "df2"
   ]
  },
  {
   "cell_type": "code",
   "execution_count": 62,
   "id": "4ed8771e",
   "metadata": {},
   "outputs": [
    {
     "data": {
      "text/plain": [
       "[Index(['Row1', 'Row2', 'Row3', 'Row4', 5, 'row5'], dtype='object'),\n",
       " Index(['Roll', 'Name', 'Percentage'], dtype='object')]"
      ]
     },
     "execution_count": 62,
     "metadata": {},
     "output_type": "execute_result"
    }
   ],
   "source": [
    "df.axes"
   ]
  },
  {
   "cell_type": "code",
   "execution_count": 63,
   "id": "f859f903",
   "metadata": {},
   "outputs": [
    {
     "data": {
      "text/plain": [
       "Index(['Roll', 'Name', 'Percentage'], dtype='object')"
      ]
     },
     "execution_count": 63,
     "metadata": {},
     "output_type": "execute_result"
    }
   ],
   "source": [
    "df.columns"
   ]
  },
  {
   "cell_type": "code",
   "execution_count": 120,
   "id": "90e6655e",
   "metadata": {},
   "outputs": [
    {
     "data": {
      "text/html": [
       "<div>\n",
       "<style scoped>\n",
       "    .dataframe tbody tr th:only-of-type {\n",
       "        vertical-align: middle;\n",
       "    }\n",
       "\n",
       "    .dataframe tbody tr th {\n",
       "        vertical-align: top;\n",
       "    }\n",
       "\n",
       "    .dataframe thead th {\n",
       "        text-align: right;\n",
       "    }\n",
       "</style>\n",
       "<table border=\"1\" class=\"dataframe\">\n",
       "  <thead>\n",
       "    <tr style=\"text-align: right;\">\n",
       "      <th></th>\n",
       "      <th>Roll</th>\n",
       "      <th>Name</th>\n",
       "      <th>Percentage</th>\n",
       "    </tr>\n",
       "  </thead>\n",
       "  <tbody>\n",
       "    <tr>\n",
       "      <th>Row_0</th>\n",
       "      <td>12</td>\n",
       "      <td>Awaneesh</td>\n",
       "      <td>98.99</td>\n",
       "    </tr>\n",
       "    <tr>\n",
       "      <th>Row_1</th>\n",
       "      <td>13</td>\n",
       "      <td>Amol</td>\n",
       "      <td>90.87</td>\n",
       "    </tr>\n",
       "    <tr>\n",
       "      <th>Row_2</th>\n",
       "      <td>14</td>\n",
       "      <td>Ashwini</td>\n",
       "      <td>91.99</td>\n",
       "    </tr>\n",
       "    <tr>\n",
       "      <th>Row_3</th>\n",
       "      <td>15</td>\n",
       "      <td>Ameya</td>\n",
       "      <td>94.77</td>\n",
       "    </tr>\n",
       "    <tr>\n",
       "      <th>Row_4</th>\n",
       "      <td>16</td>\n",
       "      <td>Sahil</td>\n",
       "      <td>97.98</td>\n",
       "    </tr>\n",
       "  </tbody>\n",
       "</table>\n",
       "</div>"
      ],
      "text/plain": [
       "      Roll      Name Percentage\n",
       "Row_0   12  Awaneesh      98.99\n",
       "Row_1   13      Amol      90.87\n",
       "Row_2   14   Ashwini      91.99\n",
       "Row_3   15     Ameya      94.77\n",
       "Row_4   16     Sahil      97.98"
      ]
     },
     "execution_count": 120,
     "metadata": {},
     "output_type": "execute_result"
    }
   ],
   "source": [
    "df"
   ]
  },
  {
   "cell_type": "markdown",
   "id": "9ed64d02",
   "metadata": {},
   "source": [
    "### Append row using append function -- pass dictionary to append function"
   ]
  },
  {
   "cell_type": "code",
   "execution_count": 55,
   "id": "d8c7f987",
   "metadata": {},
   "outputs": [
    {
     "name": "stderr",
     "output_type": "stream",
     "text": [
      "C:\\Users\\amol\\AppData\\Local\\Temp\\ipykernel_14276\\1009426353.py:1: FutureWarning: The frame.append method is deprecated and will be removed from pandas in a future version. Use pandas.concat instead.\n",
      "  df.append({'Roll':16, 'Name':'Sejal','Percentage':89.87},ignore_index=True)\n"
     ]
    },
    {
     "data": {
      "text/html": [
       "<div>\n",
       "<style scoped>\n",
       "    .dataframe tbody tr th:only-of-type {\n",
       "        vertical-align: middle;\n",
       "    }\n",
       "\n",
       "    .dataframe tbody tr th {\n",
       "        vertical-align: top;\n",
       "    }\n",
       "\n",
       "    .dataframe thead th {\n",
       "        text-align: right;\n",
       "    }\n",
       "</style>\n",
       "<table border=\"1\" class=\"dataframe\">\n",
       "  <thead>\n",
       "    <tr style=\"text-align: right;\">\n",
       "      <th></th>\n",
       "      <th>Roll</th>\n",
       "      <th>Name</th>\n",
       "      <th>Percentage</th>\n",
       "    </tr>\n",
       "  </thead>\n",
       "  <tbody>\n",
       "    <tr>\n",
       "      <th>0</th>\n",
       "      <td>12</td>\n",
       "      <td>Awaneesh</td>\n",
       "      <td>98.99</td>\n",
       "    </tr>\n",
       "    <tr>\n",
       "      <th>1</th>\n",
       "      <td>13</td>\n",
       "      <td>Amol</td>\n",
       "      <td>90.87</td>\n",
       "    </tr>\n",
       "    <tr>\n",
       "      <th>2</th>\n",
       "      <td>14</td>\n",
       "      <td>Ashwini</td>\n",
       "      <td>91.99</td>\n",
       "    </tr>\n",
       "    <tr>\n",
       "      <th>3</th>\n",
       "      <td>15</td>\n",
       "      <td>Ameya</td>\n",
       "      <td>94.77</td>\n",
       "    </tr>\n",
       "    <tr>\n",
       "      <th>4</th>\n",
       "      <td>17</td>\n",
       "      <td>Awana</td>\n",
       "      <td>89.9</td>\n",
       "    </tr>\n",
       "    <tr>\n",
       "      <th>5</th>\n",
       "      <td>16</td>\n",
       "      <td>Sejal</td>\n",
       "      <td>89.87</td>\n",
       "    </tr>\n",
       "  </tbody>\n",
       "</table>\n",
       "</div>"
      ],
      "text/plain": [
       "  Roll      Name Percentage\n",
       "0   12  Awaneesh      98.99\n",
       "1   13      Amol      90.87\n",
       "2   14   Ashwini      91.99\n",
       "3   15     Ameya      94.77\n",
       "4   17     Awana       89.9\n",
       "5   16     Sejal      89.87"
      ]
     },
     "execution_count": 55,
     "metadata": {},
     "output_type": "execute_result"
    }
   ],
   "source": [
    "df.append({'Roll':16, 'Name':'Sejal','Percentage':89.87},ignore_index=True)"
   ]
  },
  {
   "cell_type": "markdown",
   "id": "e8a1bd89",
   "metadata": {},
   "source": [
    "### Append data to DataFrame directly by specifying loc"
   ]
  },
  {
   "cell_type": "code",
   "execution_count": 67,
   "id": "c62f46c6",
   "metadata": {},
   "outputs": [],
   "source": [
    "df.loc['Row5']=[17,'Awana',89.90]"
   ]
  },
  {
   "cell_type": "code",
   "execution_count": 68,
   "id": "2e8a46f1",
   "metadata": {},
   "outputs": [
    {
     "data": {
      "text/html": [
       "<div>\n",
       "<style scoped>\n",
       "    .dataframe tbody tr th:only-of-type {\n",
       "        vertical-align: middle;\n",
       "    }\n",
       "\n",
       "    .dataframe tbody tr th {\n",
       "        vertical-align: top;\n",
       "    }\n",
       "\n",
       "    .dataframe thead th {\n",
       "        text-align: right;\n",
       "    }\n",
       "</style>\n",
       "<table border=\"1\" class=\"dataframe\">\n",
       "  <thead>\n",
       "    <tr style=\"text-align: right;\">\n",
       "      <th></th>\n",
       "      <th>Roll</th>\n",
       "      <th>Name</th>\n",
       "      <th>Percentage</th>\n",
       "    </tr>\n",
       "  </thead>\n",
       "  <tbody>\n",
       "    <tr>\n",
       "      <th>Row1</th>\n",
       "      <td>12</td>\n",
       "      <td>Awaneesh</td>\n",
       "      <td>98.99</td>\n",
       "    </tr>\n",
       "    <tr>\n",
       "      <th>Row2</th>\n",
       "      <td>13</td>\n",
       "      <td>Amol</td>\n",
       "      <td>90.87</td>\n",
       "    </tr>\n",
       "    <tr>\n",
       "      <th>Row3</th>\n",
       "      <td>14</td>\n",
       "      <td>Ashwini</td>\n",
       "      <td>91.99</td>\n",
       "    </tr>\n",
       "    <tr>\n",
       "      <th>Row4</th>\n",
       "      <td>15</td>\n",
       "      <td>Ameya</td>\n",
       "      <td>94.77</td>\n",
       "    </tr>\n",
       "    <tr>\n",
       "      <th>Row5</th>\n",
       "      <td>17</td>\n",
       "      <td>Awana</td>\n",
       "      <td>89.9</td>\n",
       "    </tr>\n",
       "  </tbody>\n",
       "</table>\n",
       "</div>"
      ],
      "text/plain": [
       "     Roll      Name Percentage\n",
       "Row1   12  Awaneesh      98.99\n",
       "Row2   13      Amol      90.87\n",
       "Row3   14   Ashwini      91.99\n",
       "Row4   15     Ameya      94.77\n",
       "Row5   17     Awana       89.9"
      ]
     },
     "execution_count": 68,
     "metadata": {},
     "output_type": "execute_result"
    }
   ],
   "source": [
    "df"
   ]
  },
  {
   "cell_type": "code",
   "execution_count": 69,
   "id": "e04c8ca8",
   "metadata": {},
   "outputs": [
    {
     "data": {
      "text/html": [
       "<div>\n",
       "<style scoped>\n",
       "    .dataframe tbody tr th:only-of-type {\n",
       "        vertical-align: middle;\n",
       "    }\n",
       "\n",
       "    .dataframe tbody tr th {\n",
       "        vertical-align: top;\n",
       "    }\n",
       "\n",
       "    .dataframe thead th {\n",
       "        text-align: right;\n",
       "    }\n",
       "</style>\n",
       "<table border=\"1\" class=\"dataframe\">\n",
       "  <thead>\n",
       "    <tr style=\"text-align: right;\">\n",
       "      <th></th>\n",
       "      <th>Roll</th>\n",
       "      <th>Name</th>\n",
       "      <th>Percentage</th>\n",
       "    </tr>\n",
       "  </thead>\n",
       "  <tbody>\n",
       "    <tr>\n",
       "      <th>0</th>\n",
       "      <td>12</td>\n",
       "      <td>Awaneesh</td>\n",
       "      <td>98.99</td>\n",
       "    </tr>\n",
       "    <tr>\n",
       "      <th>1</th>\n",
       "      <td>13</td>\n",
       "      <td>Amol</td>\n",
       "      <td>90.87</td>\n",
       "    </tr>\n",
       "    <tr>\n",
       "      <th>2</th>\n",
       "      <td>14</td>\n",
       "      <td>Ashwini</td>\n",
       "      <td>91.99</td>\n",
       "    </tr>\n",
       "    <tr>\n",
       "      <th>3</th>\n",
       "      <td>15</td>\n",
       "      <td>Ameya</td>\n",
       "      <td>94.77</td>\n",
       "    </tr>\n",
       "  </tbody>\n",
       "</table>\n",
       "</div>"
      ],
      "text/plain": [
       "  Roll      Name Percentage\n",
       "0   12  Awaneesh      98.99\n",
       "1   13      Amol      90.87\n",
       "2   14   Ashwini      91.99\n",
       "3   15     Ameya      94.77"
      ]
     },
     "execution_count": 69,
     "metadata": {},
     "output_type": "execute_result"
    }
   ],
   "source": [
    "df2"
   ]
  },
  {
   "cell_type": "code",
   "execution_count": null,
   "id": "a7c06bad",
   "metadata": {},
   "outputs": [],
   "source": [
    "'''\n",
    "It is important to note that we can not add new row in the dataframe by using \n",
    "                                df.iloc\n",
    "as iloc is a default indexing for values which are not existing (it means that at index 4 there is no data so we can not add\n",
    "data there)\n",
    "\n",
    "\n",
    "\n",
    "df.loc will work for integer index as well as string index in loc[4] or loc['4'] ---> both are permitted\n",
    "\n",
    "'''"
   ]
  },
  {
   "cell_type": "code",
   "execution_count": 71,
   "id": "22462396",
   "metadata": {},
   "outputs": [],
   "source": [
    "df2.loc['4']=[16,'Sejal',89.78]       ## observe the value in loc.. its not integer.. "
   ]
  },
  {
   "cell_type": "code",
   "execution_count": 72,
   "id": "a6bfedc6",
   "metadata": {},
   "outputs": [
    {
     "data": {
      "text/html": [
       "<div>\n",
       "<style scoped>\n",
       "    .dataframe tbody tr th:only-of-type {\n",
       "        vertical-align: middle;\n",
       "    }\n",
       "\n",
       "    .dataframe tbody tr th {\n",
       "        vertical-align: top;\n",
       "    }\n",
       "\n",
       "    .dataframe thead th {\n",
       "        text-align: right;\n",
       "    }\n",
       "</style>\n",
       "<table border=\"1\" class=\"dataframe\">\n",
       "  <thead>\n",
       "    <tr style=\"text-align: right;\">\n",
       "      <th></th>\n",
       "      <th>Roll</th>\n",
       "      <th>Name</th>\n",
       "      <th>Percentage</th>\n",
       "    </tr>\n",
       "  </thead>\n",
       "  <tbody>\n",
       "    <tr>\n",
       "      <th>0</th>\n",
       "      <td>12</td>\n",
       "      <td>Awaneesh</td>\n",
       "      <td>98.99</td>\n",
       "    </tr>\n",
       "    <tr>\n",
       "      <th>1</th>\n",
       "      <td>13</td>\n",
       "      <td>Amol</td>\n",
       "      <td>90.87</td>\n",
       "    </tr>\n",
       "    <tr>\n",
       "      <th>2</th>\n",
       "      <td>14</td>\n",
       "      <td>Ashwini</td>\n",
       "      <td>91.99</td>\n",
       "    </tr>\n",
       "    <tr>\n",
       "      <th>3</th>\n",
       "      <td>15</td>\n",
       "      <td>Ameya</td>\n",
       "      <td>94.77</td>\n",
       "    </tr>\n",
       "    <tr>\n",
       "      <th>4</th>\n",
       "      <td>16</td>\n",
       "      <td>Sejal</td>\n",
       "      <td>89.78</td>\n",
       "    </tr>\n",
       "  </tbody>\n",
       "</table>\n",
       "</div>"
      ],
      "text/plain": [
       "  Roll      Name Percentage\n",
       "0   12  Awaneesh      98.99\n",
       "1   13      Amol      90.87\n",
       "2   14   Ashwini      91.99\n",
       "3   15     Ameya      94.77\n",
       "4   16     Sejal      89.78"
      ]
     },
     "execution_count": 72,
     "metadata": {},
     "output_type": "execute_result"
    }
   ],
   "source": [
    "df2"
   ]
  },
  {
   "cell_type": "code",
   "execution_count": 73,
   "id": "4dafdfc5",
   "metadata": {},
   "outputs": [],
   "source": [
    "df2.loc[5]=[17,'Nilam',78.90]         ## observe the value in loc.. its integer.. "
   ]
  },
  {
   "cell_type": "code",
   "execution_count": 74,
   "id": "c6643ffb",
   "metadata": {},
   "outputs": [
    {
     "data": {
      "text/html": [
       "<div>\n",
       "<style scoped>\n",
       "    .dataframe tbody tr th:only-of-type {\n",
       "        vertical-align: middle;\n",
       "    }\n",
       "\n",
       "    .dataframe tbody tr th {\n",
       "        vertical-align: top;\n",
       "    }\n",
       "\n",
       "    .dataframe thead th {\n",
       "        text-align: right;\n",
       "    }\n",
       "</style>\n",
       "<table border=\"1\" class=\"dataframe\">\n",
       "  <thead>\n",
       "    <tr style=\"text-align: right;\">\n",
       "      <th></th>\n",
       "      <th>Roll</th>\n",
       "      <th>Name</th>\n",
       "      <th>Percentage</th>\n",
       "    </tr>\n",
       "  </thead>\n",
       "  <tbody>\n",
       "    <tr>\n",
       "      <th>0</th>\n",
       "      <td>12</td>\n",
       "      <td>Awaneesh</td>\n",
       "      <td>98.99</td>\n",
       "    </tr>\n",
       "    <tr>\n",
       "      <th>1</th>\n",
       "      <td>13</td>\n",
       "      <td>Amol</td>\n",
       "      <td>90.87</td>\n",
       "    </tr>\n",
       "    <tr>\n",
       "      <th>2</th>\n",
       "      <td>14</td>\n",
       "      <td>Ashwini</td>\n",
       "      <td>91.99</td>\n",
       "    </tr>\n",
       "    <tr>\n",
       "      <th>3</th>\n",
       "      <td>15</td>\n",
       "      <td>Ameya</td>\n",
       "      <td>94.77</td>\n",
       "    </tr>\n",
       "    <tr>\n",
       "      <th>4</th>\n",
       "      <td>16</td>\n",
       "      <td>Sejal</td>\n",
       "      <td>89.78</td>\n",
       "    </tr>\n",
       "    <tr>\n",
       "      <th>5</th>\n",
       "      <td>17</td>\n",
       "      <td>Nilam</td>\n",
       "      <td>78.9</td>\n",
       "    </tr>\n",
       "  </tbody>\n",
       "</table>\n",
       "</div>"
      ],
      "text/plain": [
       "  Roll      Name Percentage\n",
       "0   12  Awaneesh      98.99\n",
       "1   13      Amol      90.87\n",
       "2   14   Ashwini      91.99\n",
       "3   15     Ameya      94.77\n",
       "4   16     Sejal      89.78\n",
       "5   17     Nilam       78.9"
      ]
     },
     "execution_count": 74,
     "metadata": {},
     "output_type": "execute_result"
    }
   ],
   "source": [
    "df2"
   ]
  },
  {
   "cell_type": "markdown",
   "id": "560e6cfe",
   "metadata": {},
   "source": [
    "#### now check it for iloc"
   ]
  },
  {
   "cell_type": "code",
   "execution_count": 75,
   "id": "f0a6e115",
   "metadata": {},
   "outputs": [
    {
     "ename": "IndexError",
     "evalue": "iloc cannot enlarge its target object",
     "output_type": "error",
     "traceback": [
      "\u001b[1;31m---------------------------------------------------------------------------\u001b[0m",
      "\u001b[1;31mIndexError\u001b[0m                                Traceback (most recent call last)",
      "Input \u001b[1;32mIn [75]\u001b[0m, in \u001b[0;36m<cell line: 1>\u001b[1;34m()\u001b[0m\n\u001b[1;32m----> 1\u001b[0m df2\u001b[38;5;241m.\u001b[39miloc[\u001b[38;5;241m6\u001b[39m]\u001b[38;5;241m=\u001b[39m[\u001b[38;5;241m18\u001b[39m,\u001b[38;5;124m'\u001b[39m\u001b[38;5;124mDipika\u001b[39m\u001b[38;5;124m'\u001b[39m,\u001b[38;5;241m89.90\u001b[39m]\n",
      "File \u001b[1;32m~\\Anaconda3\\lib\\site-packages\\pandas\\core\\indexing.py:713\u001b[0m, in \u001b[0;36m_LocationIndexer.__setitem__\u001b[1;34m(self, key, value)\u001b[0m\n\u001b[0;32m    711\u001b[0m     key \u001b[38;5;241m=\u001b[39m com\u001b[38;5;241m.\u001b[39mapply_if_callable(key, \u001b[38;5;28mself\u001b[39m\u001b[38;5;241m.\u001b[39mobj)\n\u001b[0;32m    712\u001b[0m indexer \u001b[38;5;241m=\u001b[39m \u001b[38;5;28mself\u001b[39m\u001b[38;5;241m.\u001b[39m_get_setitem_indexer(key)\n\u001b[1;32m--> 713\u001b[0m \u001b[38;5;28;43mself\u001b[39;49m\u001b[38;5;241;43m.\u001b[39;49m\u001b[43m_has_valid_setitem_indexer\u001b[49m\u001b[43m(\u001b[49m\u001b[43mkey\u001b[49m\u001b[43m)\u001b[49m\n\u001b[0;32m    715\u001b[0m iloc \u001b[38;5;241m=\u001b[39m \u001b[38;5;28mself\u001b[39m \u001b[38;5;28;01mif\u001b[39;00m \u001b[38;5;28mself\u001b[39m\u001b[38;5;241m.\u001b[39mname \u001b[38;5;241m==\u001b[39m \u001b[38;5;124m\"\u001b[39m\u001b[38;5;124miloc\u001b[39m\u001b[38;5;124m\"\u001b[39m \u001b[38;5;28;01melse\u001b[39;00m \u001b[38;5;28mself\u001b[39m\u001b[38;5;241m.\u001b[39mobj\u001b[38;5;241m.\u001b[39miloc\n\u001b[0;32m    716\u001b[0m iloc\u001b[38;5;241m.\u001b[39m_setitem_with_indexer(indexer, value, \u001b[38;5;28mself\u001b[39m\u001b[38;5;241m.\u001b[39mname)\n",
      "File \u001b[1;32m~\\Anaconda3\\lib\\site-packages\\pandas\\core\\indexing.py:1413\u001b[0m, in \u001b[0;36m_iLocIndexer._has_valid_setitem_indexer\u001b[1;34m(self, indexer)\u001b[0m\n\u001b[0;32m   1411\u001b[0m \u001b[38;5;28;01melif\u001b[39;00m is_integer(i):\n\u001b[0;32m   1412\u001b[0m     \u001b[38;5;28;01mif\u001b[39;00m i \u001b[38;5;241m>\u001b[39m\u001b[38;5;241m=\u001b[39m \u001b[38;5;28mlen\u001b[39m(ax):\n\u001b[1;32m-> 1413\u001b[0m         \u001b[38;5;28;01mraise\u001b[39;00m \u001b[38;5;167;01mIndexError\u001b[39;00m(\u001b[38;5;124m\"\u001b[39m\u001b[38;5;124miloc cannot enlarge its target object\u001b[39m\u001b[38;5;124m\"\u001b[39m)\n\u001b[0;32m   1414\u001b[0m \u001b[38;5;28;01melif\u001b[39;00m \u001b[38;5;28misinstance\u001b[39m(i, \u001b[38;5;28mdict\u001b[39m):\n\u001b[0;32m   1415\u001b[0m     \u001b[38;5;28;01mraise\u001b[39;00m \u001b[38;5;167;01mIndexError\u001b[39;00m(\u001b[38;5;124m\"\u001b[39m\u001b[38;5;124miloc cannot enlarge its target object\u001b[39m\u001b[38;5;124m\"\u001b[39m)\n",
      "\u001b[1;31mIndexError\u001b[0m: iloc cannot enlarge its target object"
     ]
    }
   ],
   "source": [
    "df2.iloc[6]=[18,'Dipika',89.90]               ## used iloc.. this will not work as iloc uses default indexing"
   ]
  },
  {
   "cell_type": "markdown",
   "id": "6a3f7fea",
   "metadata": {},
   "source": [
    "# Deleting columns and rows from Dataframe"
   ]
  },
  {
   "cell_type": "code",
   "execution_count": 76,
   "id": "510f8ab1",
   "metadata": {},
   "outputs": [
    {
     "data": {
      "text/html": [
       "<div>\n",
       "<style scoped>\n",
       "    .dataframe tbody tr th:only-of-type {\n",
       "        vertical-align: middle;\n",
       "    }\n",
       "\n",
       "    .dataframe tbody tr th {\n",
       "        vertical-align: top;\n",
       "    }\n",
       "\n",
       "    .dataframe thead th {\n",
       "        text-align: right;\n",
       "    }\n",
       "</style>\n",
       "<table border=\"1\" class=\"dataframe\">\n",
       "  <thead>\n",
       "    <tr style=\"text-align: right;\">\n",
       "      <th></th>\n",
       "      <th>Roll</th>\n",
       "      <th>Name</th>\n",
       "      <th>Percentage</th>\n",
       "    </tr>\n",
       "  </thead>\n",
       "  <tbody>\n",
       "    <tr>\n",
       "      <th>Row1</th>\n",
       "      <td>12</td>\n",
       "      <td>Awaneesh</td>\n",
       "      <td>98.99</td>\n",
       "    </tr>\n",
       "    <tr>\n",
       "      <th>Row2</th>\n",
       "      <td>13</td>\n",
       "      <td>Amol</td>\n",
       "      <td>90.87</td>\n",
       "    </tr>\n",
       "    <tr>\n",
       "      <th>Row3</th>\n",
       "      <td>14</td>\n",
       "      <td>Ashwini</td>\n",
       "      <td>91.99</td>\n",
       "    </tr>\n",
       "    <tr>\n",
       "      <th>Row4</th>\n",
       "      <td>15</td>\n",
       "      <td>Ameya</td>\n",
       "      <td>94.77</td>\n",
       "    </tr>\n",
       "    <tr>\n",
       "      <th>Row5</th>\n",
       "      <td>17</td>\n",
       "      <td>Awana</td>\n",
       "      <td>89.9</td>\n",
       "    </tr>\n",
       "  </tbody>\n",
       "</table>\n",
       "</div>"
      ],
      "text/plain": [
       "     Roll      Name Percentage\n",
       "Row1   12  Awaneesh      98.99\n",
       "Row2   13      Amol      90.87\n",
       "Row3   14   Ashwini      91.99\n",
       "Row4   15     Ameya      94.77\n",
       "Row5   17     Awana       89.9"
      ]
     },
     "execution_count": 76,
     "metadata": {},
     "output_type": "execute_result"
    }
   ],
   "source": [
    "df"
   ]
  },
  {
   "cell_type": "markdown",
   "id": "438dd83c",
   "metadata": {},
   "source": [
    "### drop row\n",
    "\n",
    "'''\n",
    "while dropping row, we MUST provide the index of the row also we must provide axis=1 and inplace=True\n",
    "'''"
   ]
  },
  {
   "cell_type": "code",
   "execution_count": 79,
   "id": "8eefb91e",
   "metadata": {},
   "outputs": [],
   "source": [
    "df.drop(index='Row5',axis=1,inplace=True)"
   ]
  },
  {
   "cell_type": "code",
   "execution_count": 80,
   "id": "706f51bb",
   "metadata": {},
   "outputs": [
    {
     "data": {
      "text/html": [
       "<div>\n",
       "<style scoped>\n",
       "    .dataframe tbody tr th:only-of-type {\n",
       "        vertical-align: middle;\n",
       "    }\n",
       "\n",
       "    .dataframe tbody tr th {\n",
       "        vertical-align: top;\n",
       "    }\n",
       "\n",
       "    .dataframe thead th {\n",
       "        text-align: right;\n",
       "    }\n",
       "</style>\n",
       "<table border=\"1\" class=\"dataframe\">\n",
       "  <thead>\n",
       "    <tr style=\"text-align: right;\">\n",
       "      <th></th>\n",
       "      <th>Roll</th>\n",
       "      <th>Name</th>\n",
       "      <th>Percentage</th>\n",
       "    </tr>\n",
       "  </thead>\n",
       "  <tbody>\n",
       "    <tr>\n",
       "      <th>Row1</th>\n",
       "      <td>12</td>\n",
       "      <td>Awaneesh</td>\n",
       "      <td>98.99</td>\n",
       "    </tr>\n",
       "    <tr>\n",
       "      <th>Row2</th>\n",
       "      <td>13</td>\n",
       "      <td>Amol</td>\n",
       "      <td>90.87</td>\n",
       "    </tr>\n",
       "    <tr>\n",
       "      <th>Row3</th>\n",
       "      <td>14</td>\n",
       "      <td>Ashwini</td>\n",
       "      <td>91.99</td>\n",
       "    </tr>\n",
       "    <tr>\n",
       "      <th>Row4</th>\n",
       "      <td>15</td>\n",
       "      <td>Ameya</td>\n",
       "      <td>94.77</td>\n",
       "    </tr>\n",
       "  </tbody>\n",
       "</table>\n",
       "</div>"
      ],
      "text/plain": [
       "     Roll      Name Percentage\n",
       "Row1   12  Awaneesh      98.99\n",
       "Row2   13      Amol      90.87\n",
       "Row3   14   Ashwini      91.99\n",
       "Row4   15     Ameya      94.77"
      ]
     },
     "execution_count": 80,
     "metadata": {},
     "output_type": "execute_result"
    }
   ],
   "source": [
    "df"
   ]
  },
  {
   "cell_type": "markdown",
   "id": "17ffd4c6",
   "metadata": {},
   "source": [
    "### Drop column\n",
    "\n",
    "''' while dropping column, we MUST provide the column name of the column also we must provide axis=0 and inplace=True '''\n"
   ]
  },
  {
   "cell_type": "code",
   "execution_count": 81,
   "id": "98740304",
   "metadata": {},
   "outputs": [],
   "source": [
    "df.drop(columns='Percentage',axis=0,inplace=True)"
   ]
  },
  {
   "cell_type": "code",
   "execution_count": 82,
   "id": "6b63f7e2",
   "metadata": {},
   "outputs": [
    {
     "data": {
      "text/html": [
       "<div>\n",
       "<style scoped>\n",
       "    .dataframe tbody tr th:only-of-type {\n",
       "        vertical-align: middle;\n",
       "    }\n",
       "\n",
       "    .dataframe tbody tr th {\n",
       "        vertical-align: top;\n",
       "    }\n",
       "\n",
       "    .dataframe thead th {\n",
       "        text-align: right;\n",
       "    }\n",
       "</style>\n",
       "<table border=\"1\" class=\"dataframe\">\n",
       "  <thead>\n",
       "    <tr style=\"text-align: right;\">\n",
       "      <th></th>\n",
       "      <th>Roll</th>\n",
       "      <th>Name</th>\n",
       "    </tr>\n",
       "  </thead>\n",
       "  <tbody>\n",
       "    <tr>\n",
       "      <th>Row1</th>\n",
       "      <td>12</td>\n",
       "      <td>Awaneesh</td>\n",
       "    </tr>\n",
       "    <tr>\n",
       "      <th>Row2</th>\n",
       "      <td>13</td>\n",
       "      <td>Amol</td>\n",
       "    </tr>\n",
       "    <tr>\n",
       "      <th>Row3</th>\n",
       "      <td>14</td>\n",
       "      <td>Ashwini</td>\n",
       "    </tr>\n",
       "    <tr>\n",
       "      <th>Row4</th>\n",
       "      <td>15</td>\n",
       "      <td>Ameya</td>\n",
       "    </tr>\n",
       "  </tbody>\n",
       "</table>\n",
       "</div>"
      ],
      "text/plain": [
       "     Roll      Name\n",
       "Row1   12  Awaneesh\n",
       "Row2   13      Amol\n",
       "Row3   14   Ashwini\n",
       "Row4   15     Ameya"
      ]
     },
     "execution_count": 82,
     "metadata": {},
     "output_type": "execute_result"
    }
   ],
   "source": [
    "df"
   ]
  },
  {
   "cell_type": "code",
   "execution_count": null,
   "id": "9672d733",
   "metadata": {},
   "outputs": [],
   "source": []
  },
  {
   "cell_type": "markdown",
   "id": "91f7bcf5",
   "metadata": {},
   "source": [
    "# Broadcasting operation on DataFram"
   ]
  },
  {
   "cell_type": "code",
   "execution_count": 106,
   "id": "b11b1aa3",
   "metadata": {},
   "outputs": [],
   "source": [
    "data=np.array([[12,'Awaneesh',98.99],\n",
    "         [13,'Amol',90.87],\n",
    "         [14,'Ashwini',91.99],\n",
    "         [15,'Ameya',94.77]])\n",
    "\n",
    "df=pd.DataFrame(data=data,columns=['Roll','Name','Percentage'],index=['Row_0','Row_1','Row_2','Row_3'])"
   ]
  },
  {
   "cell_type": "code",
   "execution_count": 121,
   "id": "d7dbc109",
   "metadata": {},
   "outputs": [
    {
     "name": "stdout",
     "output_type": "stream",
     "text": [
      "<class 'pandas.core.frame.DataFrame'>\n",
      "Index: 5 entries, Row_0 to Row_4\n",
      "Data columns (total 3 columns):\n",
      " #   Column      Non-Null Count  Dtype \n",
      "---  ------      --------------  ----- \n",
      " 0   Roll        5 non-null      object\n",
      " 1   Name        5 non-null      object\n",
      " 2   Percentage  5 non-null      object\n",
      "dtypes: object(3)\n",
      "memory usage: 160.0+ bytes\n"
     ]
    }
   ],
   "source": [
    "df.info()"
   ]
  },
  {
   "cell_type": "markdown",
   "id": "46f43b76",
   "metadata": {},
   "source": [
    "### lets do broadcasting---> subtract 2.00% from percentage marks of every student"
   ]
  },
  {
   "cell_type": "code",
   "execution_count": 103,
   "id": "57c5574d",
   "metadata": {},
   "outputs": [],
   "source": [
    "# astype() casts pandas object to a specific type\n",
    "# here type of 'Percentage' column is object, so we need to first convert it into float by using astype and then subtract 2.0\n",
    "\n",
    "df['Percentage']=df['Percentage'].astype(float)-2.0"
   ]
  },
  {
   "cell_type": "code",
   "execution_count": 104,
   "id": "d9c434aa",
   "metadata": {},
   "outputs": [
    {
     "data": {
      "text/html": [
       "<div>\n",
       "<style scoped>\n",
       "    .dataframe tbody tr th:only-of-type {\n",
       "        vertical-align: middle;\n",
       "    }\n",
       "\n",
       "    .dataframe tbody tr th {\n",
       "        vertical-align: top;\n",
       "    }\n",
       "\n",
       "    .dataframe thead th {\n",
       "        text-align: right;\n",
       "    }\n",
       "</style>\n",
       "<table border=\"1\" class=\"dataframe\">\n",
       "  <thead>\n",
       "    <tr style=\"text-align: right;\">\n",
       "      <th></th>\n",
       "      <th>Roll</th>\n",
       "      <th>Name</th>\n",
       "      <th>Percentage</th>\n",
       "    </tr>\n",
       "  </thead>\n",
       "  <tbody>\n",
       "    <tr>\n",
       "      <th>Row_0</th>\n",
       "      <td>12</td>\n",
       "      <td>Awaneesh</td>\n",
       "      <td>96.99</td>\n",
       "    </tr>\n",
       "    <tr>\n",
       "      <th>Row_1</th>\n",
       "      <td>13</td>\n",
       "      <td>Amol</td>\n",
       "      <td>88.87</td>\n",
       "    </tr>\n",
       "    <tr>\n",
       "      <th>Row_2</th>\n",
       "      <td>14</td>\n",
       "      <td>Ashwini</td>\n",
       "      <td>89.99</td>\n",
       "    </tr>\n",
       "    <tr>\n",
       "      <th>Row_3</th>\n",
       "      <td>15</td>\n",
       "      <td>Ameya</td>\n",
       "      <td>92.77</td>\n",
       "    </tr>\n",
       "  </tbody>\n",
       "</table>\n",
       "</div>"
      ],
      "text/plain": [
       "      Roll      Name  Percentage\n",
       "Row_0   12  Awaneesh       96.99\n",
       "Row_1   13      Amol       88.87\n",
       "Row_2   14   Ashwini       89.99\n",
       "Row_3   15     Ameya       92.77"
      ]
     },
     "execution_count": 104,
     "metadata": {},
     "output_type": "execute_result"
    }
   ],
   "source": [
    "df"
   ]
  },
  {
   "cell_type": "code",
   "execution_count": 108,
   "id": "67f21466",
   "metadata": {},
   "outputs": [
    {
     "data": {
      "text/plain": [
       "Row_0    98.99\n",
       "Row_1    90.87\n",
       "Row_2    91.99\n",
       "Row_3    94.77\n",
       "Name: Percentage, dtype: object"
      ]
     },
     "execution_count": 108,
     "metadata": {},
     "output_type": "execute_result"
    }
   ],
   "source": [
    "df['Percentage']"
   ]
  },
  {
   "cell_type": "code",
   "execution_count": 110,
   "id": "1da662a0",
   "metadata": {},
   "outputs": [
    {
     "data": {
      "text/plain": [
       "94.155"
      ]
     },
     "execution_count": 110,
     "metadata": {},
     "output_type": "execute_result"
    }
   ],
   "source": [
    "df['Percentage'].astype(float).mean()"
   ]
  },
  {
   "cell_type": "markdown",
   "id": "37a37901",
   "metadata": {},
   "source": [
    "### check the type of dataframe column before applying broadcasting function"
   ]
  },
  {
   "cell_type": "code",
   "execution_count": 111,
   "id": "704eb42b",
   "metadata": {},
   "outputs": [
    {
     "data": {
      "text/plain": [
       "98.99"
      ]
     },
     "execution_count": 111,
     "metadata": {},
     "output_type": "execute_result"
    }
   ],
   "source": [
    "df['Percentage'].astype(float).max()"
   ]
  },
  {
   "cell_type": "code",
   "execution_count": 112,
   "id": "81035306",
   "metadata": {},
   "outputs": [
    {
     "data": {
      "text/plain": [
       "93.38"
      ]
     },
     "execution_count": 112,
     "metadata": {},
     "output_type": "execute_result"
    }
   ],
   "source": [
    "df['Percentage'].astype(float).median()"
   ]
  },
  {
   "cell_type": "code",
   "execution_count": 114,
   "id": "42d6c730",
   "metadata": {},
   "outputs": [
    {
     "data": {
      "text/html": [
       "<div>\n",
       "<style scoped>\n",
       "    .dataframe tbody tr th:only-of-type {\n",
       "        vertical-align: middle;\n",
       "    }\n",
       "\n",
       "    .dataframe tbody tr th {\n",
       "        vertical-align: top;\n",
       "    }\n",
       "\n",
       "    .dataframe thead th {\n",
       "        text-align: right;\n",
       "    }\n",
       "</style>\n",
       "<table border=\"1\" class=\"dataframe\">\n",
       "  <thead>\n",
       "    <tr style=\"text-align: right;\">\n",
       "      <th></th>\n",
       "      <th>Roll</th>\n",
       "      <th>Name</th>\n",
       "      <th>Percentage</th>\n",
       "    </tr>\n",
       "  </thead>\n",
       "  <tbody>\n",
       "    <tr>\n",
       "      <th>Row_1</th>\n",
       "      <td>13</td>\n",
       "      <td>Amol</td>\n",
       "      <td>90.87</td>\n",
       "    </tr>\n",
       "    <tr>\n",
       "      <th>Row_2</th>\n",
       "      <td>14</td>\n",
       "      <td>Ashwini</td>\n",
       "      <td>91.99</td>\n",
       "    </tr>\n",
       "    <tr>\n",
       "      <th>Row_3</th>\n",
       "      <td>15</td>\n",
       "      <td>Ameya</td>\n",
       "      <td>94.77</td>\n",
       "    </tr>\n",
       "  </tbody>\n",
       "</table>\n",
       "</div>"
      ],
      "text/plain": [
       "      Roll     Name Percentage\n",
       "Row_1   13     Amol      90.87\n",
       "Row_2   14  Ashwini      91.99\n",
       "Row_3   15    Ameya      94.77"
      ]
     },
     "execution_count": 114,
     "metadata": {},
     "output_type": "execute_result"
    }
   ],
   "source": [
    "df[df['Percentage'].astype(float)<95]"
   ]
  },
  {
   "cell_type": "code",
   "execution_count": 116,
   "id": "0579d082",
   "metadata": {},
   "outputs": [
    {
     "data": {
      "text/plain": [
       "Roll             13\n",
       "Name           Amol\n",
       "Percentage    90.87\n",
       "Name: Row_1, dtype: object"
      ]
     },
     "execution_count": 116,
     "metadata": {},
     "output_type": "execute_result"
    }
   ],
   "source": [
    "df.loc['Row_1']"
   ]
  },
  {
   "cell_type": "code",
   "execution_count": 117,
   "id": "f308fd30",
   "metadata": {},
   "outputs": [
    {
     "data": {
      "text/html": [
       "<div>\n",
       "<style scoped>\n",
       "    .dataframe tbody tr th:only-of-type {\n",
       "        vertical-align: middle;\n",
       "    }\n",
       "\n",
       "    .dataframe tbody tr th {\n",
       "        vertical-align: top;\n",
       "    }\n",
       "\n",
       "    .dataframe thead th {\n",
       "        text-align: right;\n",
       "    }\n",
       "</style>\n",
       "<table border=\"1\" class=\"dataframe\">\n",
       "  <thead>\n",
       "    <tr style=\"text-align: right;\">\n",
       "      <th></th>\n",
       "      <th>Roll</th>\n",
       "      <th>Name</th>\n",
       "      <th>Percentage</th>\n",
       "    </tr>\n",
       "  </thead>\n",
       "  <tbody>\n",
       "    <tr>\n",
       "      <th>Row_0</th>\n",
       "      <td>12</td>\n",
       "      <td>Awaneesh</td>\n",
       "      <td>98.99</td>\n",
       "    </tr>\n",
       "    <tr>\n",
       "      <th>Row_1</th>\n",
       "      <td>13</td>\n",
       "      <td>Amol</td>\n",
       "      <td>90.87</td>\n",
       "    </tr>\n",
       "    <tr>\n",
       "      <th>Row_2</th>\n",
       "      <td>14</td>\n",
       "      <td>Ashwini</td>\n",
       "      <td>91.99</td>\n",
       "    </tr>\n",
       "    <tr>\n",
       "      <th>Row_3</th>\n",
       "      <td>15</td>\n",
       "      <td>Ameya</td>\n",
       "      <td>94.77</td>\n",
       "    </tr>\n",
       "  </tbody>\n",
       "</table>\n",
       "</div>"
      ],
      "text/plain": [
       "      Roll      Name Percentage\n",
       "Row_0   12  Awaneesh      98.99\n",
       "Row_1   13      Amol      90.87\n",
       "Row_2   14   Ashwini      91.99\n",
       "Row_3   15     Ameya      94.77"
      ]
     },
     "execution_count": 117,
     "metadata": {},
     "output_type": "execute_result"
    }
   ],
   "source": [
    "df"
   ]
  },
  {
   "cell_type": "markdown",
   "id": "63ff7dc8",
   "metadata": {},
   "source": [
    "### appending row"
   ]
  },
  {
   "cell_type": "code",
   "execution_count": 118,
   "id": "5857cc64",
   "metadata": {},
   "outputs": [],
   "source": [
    "df.loc['Row_4']=[16,'Sahil',97.98]"
   ]
  },
  {
   "cell_type": "code",
   "execution_count": 119,
   "id": "d68240e1",
   "metadata": {},
   "outputs": [
    {
     "data": {
      "text/html": [
       "<div>\n",
       "<style scoped>\n",
       "    .dataframe tbody tr th:only-of-type {\n",
       "        vertical-align: middle;\n",
       "    }\n",
       "\n",
       "    .dataframe tbody tr th {\n",
       "        vertical-align: top;\n",
       "    }\n",
       "\n",
       "    .dataframe thead th {\n",
       "        text-align: right;\n",
       "    }\n",
       "</style>\n",
       "<table border=\"1\" class=\"dataframe\">\n",
       "  <thead>\n",
       "    <tr style=\"text-align: right;\">\n",
       "      <th></th>\n",
       "      <th>Roll</th>\n",
       "      <th>Name</th>\n",
       "      <th>Percentage</th>\n",
       "    </tr>\n",
       "  </thead>\n",
       "  <tbody>\n",
       "    <tr>\n",
       "      <th>Row_0</th>\n",
       "      <td>12</td>\n",
       "      <td>Awaneesh</td>\n",
       "      <td>98.99</td>\n",
       "    </tr>\n",
       "    <tr>\n",
       "      <th>Row_1</th>\n",
       "      <td>13</td>\n",
       "      <td>Amol</td>\n",
       "      <td>90.87</td>\n",
       "    </tr>\n",
       "    <tr>\n",
       "      <th>Row_2</th>\n",
       "      <td>14</td>\n",
       "      <td>Ashwini</td>\n",
       "      <td>91.99</td>\n",
       "    </tr>\n",
       "    <tr>\n",
       "      <th>Row_3</th>\n",
       "      <td>15</td>\n",
       "      <td>Ameya</td>\n",
       "      <td>94.77</td>\n",
       "    </tr>\n",
       "    <tr>\n",
       "      <th>Row_4</th>\n",
       "      <td>16</td>\n",
       "      <td>Sahil</td>\n",
       "      <td>97.98</td>\n",
       "    </tr>\n",
       "  </tbody>\n",
       "</table>\n",
       "</div>"
      ],
      "text/plain": [
       "      Roll      Name Percentage\n",
       "Row_0   12  Awaneesh      98.99\n",
       "Row_1   13      Amol      90.87\n",
       "Row_2   14   Ashwini      91.99\n",
       "Row_3   15     Ameya      94.77\n",
       "Row_4   16     Sahil      97.98"
      ]
     },
     "execution_count": 119,
     "metadata": {},
     "output_type": "execute_result"
    }
   ],
   "source": [
    "df"
   ]
  },
  {
   "cell_type": "markdown",
   "id": "7aa88cc4",
   "metadata": {},
   "source": [
    "# Reading xlsx file in pandas"
   ]
  },
  {
   "cell_type": "code",
   "execution_count": 122,
   "id": "c4493c4c",
   "metadata": {},
   "outputs": [],
   "source": [
    "placement=pd.read_excel('Placement_Statistics.xlsx')"
   ]
  },
  {
   "cell_type": "code",
   "execution_count": 123,
   "id": "a74ef726",
   "metadata": {},
   "outputs": [
    {
     "data": {
      "text/html": [
       "<div>\n",
       "<style scoped>\n",
       "    .dataframe tbody tr th:only-of-type {\n",
       "        vertical-align: middle;\n",
       "    }\n",
       "\n",
       "    .dataframe tbody tr th {\n",
       "        vertical-align: top;\n",
       "    }\n",
       "\n",
       "    .dataframe thead th {\n",
       "        text-align: right;\n",
       "    }\n",
       "</style>\n",
       "<table border=\"1\" class=\"dataframe\">\n",
       "  <thead>\n",
       "    <tr style=\"text-align: right;\">\n",
       "      <th></th>\n",
       "      <th>Unnamed: 0</th>\n",
       "      <th>Name of Student</th>\n",
       "      <th>College Name</th>\n",
       "      <th>Branch / Specialization</th>\n",
       "      <th>Division (e.g. C for students of C division out of 3 divisions of BE Mechanical)</th>\n",
       "      <th>Company Placed Final Offers</th>\n",
       "      <th>Company 1</th>\n",
       "      <th>Company 2</th>\n",
       "      <th>Company 3</th>\n",
       "      <th>Company 4</th>\n",
       "    </tr>\n",
       "  </thead>\n",
       "  <tbody>\n",
       "    <tr>\n",
       "      <th>0</th>\n",
       "      <td>3</td>\n",
       "      <td>Akshay Rajendra Shinde</td>\n",
       "      <td>PCET's PCCOE</td>\n",
       "      <td>Computer Engineering</td>\n",
       "      <td>A</td>\n",
       "      <td>BMC Software</td>\n",
       "      <td>BMC Software</td>\n",
       "      <td>NaN</td>\n",
       "      <td>NaN</td>\n",
       "      <td>NaN</td>\n",
       "    </tr>\n",
       "    <tr>\n",
       "      <th>1</th>\n",
       "      <td>14</td>\n",
       "      <td>Tejas Bhausaheb Borde</td>\n",
       "      <td>PCET's PCCOE</td>\n",
       "      <td>Computer Engineering</td>\n",
       "      <td>A</td>\n",
       "      <td>Syngenta, Veritas</td>\n",
       "      <td>Syngenta</td>\n",
       "      <td>Veritas</td>\n",
       "      <td>NaN</td>\n",
       "      <td>NaN</td>\n",
       "    </tr>\n",
       "    <tr>\n",
       "      <th>2</th>\n",
       "      <td>26</td>\n",
       "      <td>Aditya Hemant Deo</td>\n",
       "      <td>PCET's PCCOE</td>\n",
       "      <td>Computer Engineering</td>\n",
       "      <td>A</td>\n",
       "      <td>Mindbody</td>\n",
       "      <td>Mindbody</td>\n",
       "      <td>NaN</td>\n",
       "      <td>NaN</td>\n",
       "      <td>NaN</td>\n",
       "    </tr>\n",
       "    <tr>\n",
       "      <th>3</th>\n",
       "      <td>39</td>\n",
       "      <td>Prasad Rajesh Gaikwad</td>\n",
       "      <td>PCET's PCCOE</td>\n",
       "      <td>Computer Engineering</td>\n",
       "      <td>A</td>\n",
       "      <td>Quantiphi</td>\n",
       "      <td>Quantiphi</td>\n",
       "      <td>NaN</td>\n",
       "      <td>NaN</td>\n",
       "      <td>NaN</td>\n",
       "    </tr>\n",
       "    <tr>\n",
       "      <th>4</th>\n",
       "      <td>40</td>\n",
       "      <td>Shlok Prashant Gangatirkar</td>\n",
       "      <td>PCET's PCCOE</td>\n",
       "      <td>Computer Engineering</td>\n",
       "      <td>A</td>\n",
       "      <td>Druva</td>\n",
       "      <td>Druva</td>\n",
       "      <td>NaN</td>\n",
       "      <td>NaN</td>\n",
       "      <td>NaN</td>\n",
       "    </tr>\n",
       "  </tbody>\n",
       "</table>\n",
       "</div>"
      ],
      "text/plain": [
       "   Unnamed: 0             Name of Student  College Name  \\\n",
       "0           3      Akshay Rajendra Shinde  PCET's PCCOE   \n",
       "1          14       Tejas Bhausaheb Borde  PCET's PCCOE   \n",
       "2          26           Aditya Hemant Deo  PCET's PCCOE   \n",
       "3          39       Prasad Rajesh Gaikwad  PCET's PCCOE   \n",
       "4          40  Shlok Prashant Gangatirkar  PCET's PCCOE   \n",
       "\n",
       "  Branch / Specialization  \\\n",
       "0    Computer Engineering   \n",
       "1    Computer Engineering   \n",
       "2    Computer Engineering   \n",
       "3    Computer Engineering   \n",
       "4    Computer Engineering   \n",
       "\n",
       "  Division (e.g. C for students of C division out of 3 divisions of BE Mechanical)  \\\n",
       "0                                                  A                                 \n",
       "1                                                  A                                 \n",
       "2                                                  A                                 \n",
       "3                                                  A                                 \n",
       "4                                                  A                                 \n",
       "\n",
       "  Company Placed Final Offers     Company 1 Company 2  Company 3  Company 4  \n",
       "0                BMC Software  BMC Software       NaN        NaN        NaN  \n",
       "1           Syngenta, Veritas      Syngenta   Veritas        NaN        NaN  \n",
       "2                    Mindbody      Mindbody       NaN        NaN        NaN  \n",
       "3                   Quantiphi     Quantiphi       NaN        NaN        NaN  \n",
       "4                       Druva         Druva       NaN        NaN        NaN  "
      ]
     },
     "execution_count": 123,
     "metadata": {},
     "output_type": "execute_result"
    }
   ],
   "source": [
    "placement.head()"
   ]
  },
  {
   "cell_type": "code",
   "execution_count": 124,
   "id": "b7e61bf8",
   "metadata": {},
   "outputs": [
    {
     "data": {
      "text/plain": [
       "B    16\n",
       "C    13\n",
       "A    11\n",
       "D     6\n",
       "Name: Division (e.g. C for students of C division out of 3 divisions of BE Mechanical), dtype: int64"
      ]
     },
     "execution_count": 124,
     "metadata": {},
     "output_type": "execute_result"
    }
   ],
   "source": [
    "placement['Division (e.g. C for students of C division out of 3 divisions of BE Mechanical)'].value_counts()"
   ]
  },
  {
   "cell_type": "code",
   "execution_count": 125,
   "id": "b1c7a967",
   "metadata": {},
   "outputs": [
    {
     "data": {
      "text/plain": [
       "array(['BMC Software', 'Syngenta, Veritas', 'Mindbody', 'Quantiphi',\n",
       "       'Druva', 'SAP', 'Veritas', 'EQ Technologic', 'Pubmatic',\n",
       "       'AFour Technologies', 'Syngenta', 'TCS(Codevita)',\n",
       "       'Sahaj Software', 'Infocusp Innovations Pvt Ltd'], dtype=object)"
      ]
     },
     "execution_count": 125,
     "metadata": {},
     "output_type": "execute_result"
    }
   ],
   "source": [
    "placement['Company Placed Final Offers'].unique()"
   ]
  },
  {
   "cell_type": "code",
   "execution_count": 126,
   "id": "815a647d",
   "metadata": {},
   "outputs": [
    {
     "data": {
      "text/plain": [
       "14"
      ]
     },
     "execution_count": 126,
     "metadata": {},
     "output_type": "execute_result"
    }
   ],
   "source": [
    "placement['Company Placed Final Offers'].nunique()"
   ]
  },
  {
   "cell_type": "code",
   "execution_count": 131,
   "id": "95a324a6",
   "metadata": {},
   "outputs": [
    {
     "data": {
      "text/plain": [
       "[('AFour Technologies',\n",
       "  14            Rakesh Anil Minase\n",
       "  22       Ashish Dattatraya Pawar\n",
       "  24    Tejas Girishkumar Podutwar\n",
       "  28      Tushar Damodhar Varkhede\n",
       "  31     Rushikesh Karbhari Markad\n",
       "  36         Dhairya Rohit Chhabra\n",
       "  39       Pratik Shivaji Padalkar\n",
       "  42       Prince Vinayak Gangurde\n",
       "  45          MITALI SURESH GADIYA\n",
       "  Name: Name of Student, dtype: object),\n",
       " ('BMC Software',\n",
       "  0     Akshay Rajendra Shinde\n",
       "  5       Niraj Vijay Garudkar\n",
       "  10      Keyur Chetan Kolambe\n",
       "  Name: Name of Student, dtype: object),\n",
       " ('Druva',\n",
       "  4     Shlok Prashant Gangatirkar\n",
       "  25            Gaurav Vijay Rasal\n",
       "  Name: Name of Student, dtype: object),\n",
       " ('EQ Technologic',\n",
       "  11       Soham Parag Kulkarni\n",
       "  20       Srushti Suresh Patil\n",
       "  23       Karthi Dhana Sekaran\n",
       "  41    Vedant Pratim Chaudhari\n",
       "  Name: Name of Student, dtype: object),\n",
       " ('Infocusp Innovations Pvt Ltd',\n",
       "  33    Lalit Vilas Shirsath\n",
       "  37     Akash Uttam Gomsale\n",
       "  Name: Name of Student, dtype: object),\n",
       " ('Mindbody',\n",
       "  2         Aditya Hemant Deo\n",
       "  17    Tanvi Ashok Nimbalkar\n",
       "  30    Sejal Tukaram Zambare\n",
       "  Name: Name of Student, dtype: object),\n",
       " ('Pubmatic',\n",
       "  12               Durga Vijay Late\n",
       "  13             Rohit Mahadev More\n",
       "  38    Shantanu Nilkanth Mirajgave\n",
       "  Name: Name of Student, dtype: object),\n",
       " ('Quantiphi',\n",
       "  3          Prasad Rajesh Gaikwad\n",
       "  8        Avishkar Arjun Hongekar\n",
       "  9       Shivam Ashish Khandelwal\n",
       "  15          Pranav Bhaskar Muthe\n",
       "  18              Anuj Asit Pandya\n",
       "  21    Sainath Nandkumar Pattewar\n",
       "  34        Mohini Anandrao Shinde\n",
       "  40            Pawan Ishwar Kadam\n",
       "  44        Siddharth Sayan Poddar\n",
       "  Name: Name of Student, dtype: object),\n",
       " ('SAP',\n",
       "  6        Shamik Sanjay Ghadge\n",
       "  16    Mohit Jitendra Nathwani\n",
       "  Name: Name of Student, dtype: object),\n",
       " ('Sahaj Software',\n",
       "  29    Vighnesh Sanjay Pathrikar\n",
       "  Name: Name of Student, dtype: object),\n",
       " ('Syngenta',\n",
       "  19    Shreyash Shivaji Patil\n",
       "  Name: Name of Student, dtype: object),\n",
       " ('Syngenta, Veritas',\n",
       "  1     Tejas Bhausaheb Borde\n",
       "  27     Sumedha Nitin Zaware\n",
       "  Name: Name of Student, dtype: object),\n",
       " ('TCS(Codevita)',\n",
       "  26        Rizwan Yusuf Sayyed\n",
       "  32    Nikita Sukhadev Gaikwad\n",
       "  Name: Name of Student, dtype: object),\n",
       " ('Veritas',\n",
       "  7     Palak Ramesh Gupta\n",
       "  35    Pratik Kumar Patil\n",
       "  43      Dev Vikas Juneja\n",
       "  Name: Name of Student, dtype: object)]"
      ]
     },
     "execution_count": 131,
     "metadata": {},
     "output_type": "execute_result"
    }
   ],
   "source": [
    "list(placement.groupby('Company Placed Final Offers')['Name of Student'])"
   ]
  },
  {
   "cell_type": "code",
   "execution_count": 132,
   "id": "a17e4f55",
   "metadata": {},
   "outputs": [
    {
     "data": {
      "text/plain": [
       "(46, 10)"
      ]
     },
     "execution_count": 132,
     "metadata": {},
     "output_type": "execute_result"
    }
   ],
   "source": [
    "placement.shape"
   ]
  },
  {
   "cell_type": "code",
   "execution_count": 133,
   "id": "479ecafa",
   "metadata": {},
   "outputs": [
    {
     "data": {
      "text/plain": [
       "Index(['Unnamed: 0', 'Name of Student', 'College Name',\n",
       "       'Branch / Specialization',\n",
       "       'Division (e.g. C for students of C division out of 3 divisions of BE Mechanical)',\n",
       "       'Company Placed Final Offers', 'Company 1', 'Company 2', 'Company 3',\n",
       "       'Company 4'],\n",
       "      dtype='object')"
      ]
     },
     "execution_count": 133,
     "metadata": {},
     "output_type": "execute_result"
    }
   ],
   "source": [
    "placement.columns"
   ]
  },
  {
   "cell_type": "code",
   "execution_count": null,
   "id": "dcb23db2",
   "metadata": {},
   "outputs": [],
   "source": []
  },
  {
   "cell_type": "markdown",
   "id": "b798d119",
   "metadata": {},
   "source": [
    "# Apply() function in Pandas applied on Series object"
   ]
  },
  {
   "cell_type": "code",
   "execution_count": 134,
   "id": "a45e6b70",
   "metadata": {},
   "outputs": [],
   "source": [
    "import os"
   ]
  },
  {
   "cell_type": "code",
   "execution_count": 135,
   "id": "8d209838",
   "metadata": {},
   "outputs": [],
   "source": [
    "os.chdir('D:\\Datasets\\KNN')"
   ]
  },
  {
   "cell_type": "code",
   "execution_count": 136,
   "id": "0abcb78e",
   "metadata": {},
   "outputs": [],
   "source": [
    "new_df=pd.read_csv('Social_Network_Ads.csv')"
   ]
  },
  {
   "cell_type": "code",
   "execution_count": 137,
   "id": "ab273d26",
   "metadata": {},
   "outputs": [
    {
     "data": {
      "text/html": [
       "<div>\n",
       "<style scoped>\n",
       "    .dataframe tbody tr th:only-of-type {\n",
       "        vertical-align: middle;\n",
       "    }\n",
       "\n",
       "    .dataframe tbody tr th {\n",
       "        vertical-align: top;\n",
       "    }\n",
       "\n",
       "    .dataframe thead th {\n",
       "        text-align: right;\n",
       "    }\n",
       "</style>\n",
       "<table border=\"1\" class=\"dataframe\">\n",
       "  <thead>\n",
       "    <tr style=\"text-align: right;\">\n",
       "      <th></th>\n",
       "      <th>Age</th>\n",
       "      <th>EstimatedSalary</th>\n",
       "      <th>Purchased</th>\n",
       "    </tr>\n",
       "  </thead>\n",
       "  <tbody>\n",
       "    <tr>\n",
       "      <th>0</th>\n",
       "      <td>19</td>\n",
       "      <td>19000</td>\n",
       "      <td>0</td>\n",
       "    </tr>\n",
       "    <tr>\n",
       "      <th>1</th>\n",
       "      <td>35</td>\n",
       "      <td>20000</td>\n",
       "      <td>0</td>\n",
       "    </tr>\n",
       "    <tr>\n",
       "      <th>2</th>\n",
       "      <td>26</td>\n",
       "      <td>43000</td>\n",
       "      <td>0</td>\n",
       "    </tr>\n",
       "    <tr>\n",
       "      <th>3</th>\n",
       "      <td>27</td>\n",
       "      <td>57000</td>\n",
       "      <td>0</td>\n",
       "    </tr>\n",
       "    <tr>\n",
       "      <th>4</th>\n",
       "      <td>19</td>\n",
       "      <td>76000</td>\n",
       "      <td>0</td>\n",
       "    </tr>\n",
       "  </tbody>\n",
       "</table>\n",
       "</div>"
      ],
      "text/plain": [
       "   Age  EstimatedSalary  Purchased\n",
       "0   19            19000          0\n",
       "1   35            20000          0\n",
       "2   26            43000          0\n",
       "3   27            57000          0\n",
       "4   19            76000          0"
      ]
     },
     "execution_count": 137,
     "metadata": {},
     "output_type": "execute_result"
    }
   ],
   "source": [
    "new_df.head()"
   ]
  },
  {
   "cell_type": "code",
   "execution_count": 138,
   "id": "0028438d",
   "metadata": {},
   "outputs": [
    {
     "name": "stdout",
     "output_type": "stream",
     "text": [
      "<class 'pandas.core.frame.DataFrame'>\n",
      "RangeIndex: 400 entries, 0 to 399\n",
      "Data columns (total 3 columns):\n",
      " #   Column           Non-Null Count  Dtype\n",
      "---  ------           --------------  -----\n",
      " 0   Age              400 non-null    int64\n",
      " 1   EstimatedSalary  400 non-null    int64\n",
      " 2   Purchased        400 non-null    int64\n",
      "dtypes: int64(3)\n",
      "memory usage: 9.5 KB\n"
     ]
    }
   ],
   "source": [
    "new_df.info()"
   ]
  },
  {
   "cell_type": "code",
   "execution_count": 146,
   "id": "e767b6ba",
   "metadata": {},
   "outputs": [],
   "source": [
    "series_sal=new_df['EstimatedSalary']"
   ]
  },
  {
   "cell_type": "code",
   "execution_count": 149,
   "id": "7fe116f6",
   "metadata": {},
   "outputs": [
    {
     "data": {
      "text/plain": [
       "0       9500.0\n",
       "1      10000.0\n",
       "2      21500.0\n",
       "3      28500.0\n",
       "4      38000.0\n",
       "        ...   \n",
       "395    20500.0\n",
       "396    11500.0\n",
       "397    10000.0\n",
       "398    16500.0\n",
       "399    18000.0\n",
       "Name: EstimatedSalary, Length: 400, dtype: float64"
      ]
     },
     "execution_count": 149,
     "metadata": {},
     "output_type": "execute_result"
    }
   ],
   "source": [
    "def fun(x):\n",
    "    return x/2\n",
    "series_sal.apply(fun)  #---------------------------------------------------------------"
   ]
  },
  {
   "cell_type": "code",
   "execution_count": 159,
   "id": "d66e6d0a",
   "metadata": {},
   "outputs": [
    {
     "data": {
      "text/plain": [
       "0      19000\n",
       "1      20000\n",
       "2      44000\n",
       "3      58000\n",
       "4      77000\n",
       "       ...  \n",
       "395    42000\n",
       "396    24000\n",
       "397    20000\n",
       "398    34000\n",
       "399    37000\n",
       "Name: EstimatedSalary, Length: 400, dtype: int64"
      ]
     },
     "execution_count": 159,
     "metadata": {},
     "output_type": "execute_result"
    }
   ],
   "source": [
    "series_sal.apply(lambda x:x+1000 if x>20000 else x)"
   ]
  },
  {
   "cell_type": "code",
   "execution_count": null,
   "id": "a0544feb",
   "metadata": {},
   "outputs": [],
   "source": []
  },
  {
   "cell_type": "markdown",
   "id": "e435df74",
   "metadata": {},
   "source": [
    "# Fetching columns from dataframe"
   ]
  },
  {
   "cell_type": "code",
   "execution_count": 160,
   "id": "b5780ef4",
   "metadata": {},
   "outputs": [
    {
     "data": {
      "text/html": [
       "<div>\n",
       "<style scoped>\n",
       "    .dataframe tbody tr th:only-of-type {\n",
       "        vertical-align: middle;\n",
       "    }\n",
       "\n",
       "    .dataframe tbody tr th {\n",
       "        vertical-align: top;\n",
       "    }\n",
       "\n",
       "    .dataframe thead th {\n",
       "        text-align: right;\n",
       "    }\n",
       "</style>\n",
       "<table border=\"1\" class=\"dataframe\">\n",
       "  <thead>\n",
       "    <tr style=\"text-align: right;\">\n",
       "      <th></th>\n",
       "      <th>Age</th>\n",
       "      <th>EstimatedSalary</th>\n",
       "      <th>Purchased</th>\n",
       "    </tr>\n",
       "  </thead>\n",
       "  <tbody>\n",
       "    <tr>\n",
       "      <th>0</th>\n",
       "      <td>19</td>\n",
       "      <td>19000</td>\n",
       "      <td>0</td>\n",
       "    </tr>\n",
       "    <tr>\n",
       "      <th>1</th>\n",
       "      <td>35</td>\n",
       "      <td>20000</td>\n",
       "      <td>0</td>\n",
       "    </tr>\n",
       "    <tr>\n",
       "      <th>2</th>\n",
       "      <td>26</td>\n",
       "      <td>43000</td>\n",
       "      <td>0</td>\n",
       "    </tr>\n",
       "    <tr>\n",
       "      <th>3</th>\n",
       "      <td>27</td>\n",
       "      <td>57000</td>\n",
       "      <td>0</td>\n",
       "    </tr>\n",
       "    <tr>\n",
       "      <th>4</th>\n",
       "      <td>19</td>\n",
       "      <td>76000</td>\n",
       "      <td>0</td>\n",
       "    </tr>\n",
       "    <tr>\n",
       "      <th>...</th>\n",
       "      <td>...</td>\n",
       "      <td>...</td>\n",
       "      <td>...</td>\n",
       "    </tr>\n",
       "    <tr>\n",
       "      <th>395</th>\n",
       "      <td>46</td>\n",
       "      <td>41000</td>\n",
       "      <td>1</td>\n",
       "    </tr>\n",
       "    <tr>\n",
       "      <th>396</th>\n",
       "      <td>51</td>\n",
       "      <td>23000</td>\n",
       "      <td>1</td>\n",
       "    </tr>\n",
       "    <tr>\n",
       "      <th>397</th>\n",
       "      <td>50</td>\n",
       "      <td>20000</td>\n",
       "      <td>1</td>\n",
       "    </tr>\n",
       "    <tr>\n",
       "      <th>398</th>\n",
       "      <td>36</td>\n",
       "      <td>33000</td>\n",
       "      <td>0</td>\n",
       "    </tr>\n",
       "    <tr>\n",
       "      <th>399</th>\n",
       "      <td>49</td>\n",
       "      <td>36000</td>\n",
       "      <td>1</td>\n",
       "    </tr>\n",
       "  </tbody>\n",
       "</table>\n",
       "<p>400 rows × 3 columns</p>\n",
       "</div>"
      ],
      "text/plain": [
       "     Age  EstimatedSalary  Purchased\n",
       "0     19            19000          0\n",
       "1     35            20000          0\n",
       "2     26            43000          0\n",
       "3     27            57000          0\n",
       "4     19            76000          0\n",
       "..   ...              ...        ...\n",
       "395   46            41000          1\n",
       "396   51            23000          1\n",
       "397   50            20000          1\n",
       "398   36            33000          0\n",
       "399   49            36000          1\n",
       "\n",
       "[400 rows x 3 columns]"
      ]
     },
     "execution_count": 160,
     "metadata": {},
     "output_type": "execute_result"
    }
   ],
   "source": [
    "new_df"
   ]
  },
  {
   "cell_type": "code",
   "execution_count": 162,
   "id": "99853dd1",
   "metadata": {},
   "outputs": [],
   "source": [
    "# suppose we want first two columns\n",
    "\n",
    "x=new_df[new_df.columns[:2]]"
   ]
  },
  {
   "cell_type": "code",
   "execution_count": 163,
   "id": "2e6b05b5",
   "metadata": {},
   "outputs": [
    {
     "data": {
      "text/html": [
       "<div>\n",
       "<style scoped>\n",
       "    .dataframe tbody tr th:only-of-type {\n",
       "        vertical-align: middle;\n",
       "    }\n",
       "\n",
       "    .dataframe tbody tr th {\n",
       "        vertical-align: top;\n",
       "    }\n",
       "\n",
       "    .dataframe thead th {\n",
       "        text-align: right;\n",
       "    }\n",
       "</style>\n",
       "<table border=\"1\" class=\"dataframe\">\n",
       "  <thead>\n",
       "    <tr style=\"text-align: right;\">\n",
       "      <th></th>\n",
       "      <th>Age</th>\n",
       "      <th>EstimatedSalary</th>\n",
       "    </tr>\n",
       "  </thead>\n",
       "  <tbody>\n",
       "    <tr>\n",
       "      <th>0</th>\n",
       "      <td>19</td>\n",
       "      <td>19000</td>\n",
       "    </tr>\n",
       "    <tr>\n",
       "      <th>1</th>\n",
       "      <td>35</td>\n",
       "      <td>20000</td>\n",
       "    </tr>\n",
       "    <tr>\n",
       "      <th>2</th>\n",
       "      <td>26</td>\n",
       "      <td>43000</td>\n",
       "    </tr>\n",
       "    <tr>\n",
       "      <th>3</th>\n",
       "      <td>27</td>\n",
       "      <td>57000</td>\n",
       "    </tr>\n",
       "    <tr>\n",
       "      <th>4</th>\n",
       "      <td>19</td>\n",
       "      <td>76000</td>\n",
       "    </tr>\n",
       "    <tr>\n",
       "      <th>...</th>\n",
       "      <td>...</td>\n",
       "      <td>...</td>\n",
       "    </tr>\n",
       "    <tr>\n",
       "      <th>395</th>\n",
       "      <td>46</td>\n",
       "      <td>41000</td>\n",
       "    </tr>\n",
       "    <tr>\n",
       "      <th>396</th>\n",
       "      <td>51</td>\n",
       "      <td>23000</td>\n",
       "    </tr>\n",
       "    <tr>\n",
       "      <th>397</th>\n",
       "      <td>50</td>\n",
       "      <td>20000</td>\n",
       "    </tr>\n",
       "    <tr>\n",
       "      <th>398</th>\n",
       "      <td>36</td>\n",
       "      <td>33000</td>\n",
       "    </tr>\n",
       "    <tr>\n",
       "      <th>399</th>\n",
       "      <td>49</td>\n",
       "      <td>36000</td>\n",
       "    </tr>\n",
       "  </tbody>\n",
       "</table>\n",
       "<p>400 rows × 2 columns</p>\n",
       "</div>"
      ],
      "text/plain": [
       "     Age  EstimatedSalary\n",
       "0     19            19000\n",
       "1     35            20000\n",
       "2     26            43000\n",
       "3     27            57000\n",
       "4     19            76000\n",
       "..   ...              ...\n",
       "395   46            41000\n",
       "396   51            23000\n",
       "397   50            20000\n",
       "398   36            33000\n",
       "399   49            36000\n",
       "\n",
       "[400 rows x 2 columns]"
      ]
     },
     "execution_count": 163,
     "metadata": {},
     "output_type": "execute_result"
    }
   ],
   "source": [
    "x"
   ]
  },
  {
   "cell_type": "code",
   "execution_count": 168,
   "id": "589bc193",
   "metadata": {},
   "outputs": [
    {
     "data": {
      "text/plain": [
       "pandas.core.frame.DataFrame"
      ]
     },
     "execution_count": 168,
     "metadata": {},
     "output_type": "execute_result"
    }
   ],
   "source": [
    "type(x)"
   ]
  },
  {
   "cell_type": "code",
   "execution_count": 164,
   "id": "68524dd1",
   "metadata": {},
   "outputs": [],
   "source": [
    "# fetching a single column from dataframe"
   ]
  },
  {
   "cell_type": "code",
   "execution_count": 165,
   "id": "a4797b7c",
   "metadata": {},
   "outputs": [],
   "source": [
    "y=new_df['Purchased']"
   ]
  },
  {
   "cell_type": "code",
   "execution_count": 166,
   "id": "f7713bdb",
   "metadata": {},
   "outputs": [
    {
     "data": {
      "text/plain": [
       "0      0\n",
       "1      0\n",
       "2      0\n",
       "3      0\n",
       "4      0\n",
       "      ..\n",
       "395    1\n",
       "396    1\n",
       "397    1\n",
       "398    0\n",
       "399    1\n",
       "Name: Purchased, Length: 400, dtype: int64"
      ]
     },
     "execution_count": 166,
     "metadata": {},
     "output_type": "execute_result"
    }
   ],
   "source": [
    "y"
   ]
  },
  {
   "cell_type": "code",
   "execution_count": 167,
   "id": "0b359223",
   "metadata": {},
   "outputs": [
    {
     "data": {
      "text/plain": [
       "pandas.core.series.Series"
      ]
     },
     "execution_count": 167,
     "metadata": {},
     "output_type": "execute_result"
    }
   ],
   "source": [
    "type(y)"
   ]
  },
  {
   "cell_type": "code",
   "execution_count": null,
   "id": "ad88c0e7",
   "metadata": {},
   "outputs": [],
   "source": []
  },
  {
   "cell_type": "code",
   "execution_count": null,
   "id": "5a790aa7",
   "metadata": {},
   "outputs": [],
   "source": []
  },
  {
   "cell_type": "code",
   "execution_count": null,
   "id": "09525330",
   "metadata": {},
   "outputs": [],
   "source": []
  }
 ],
 "metadata": {
  "kernelspec": {
   "display_name": "Python 3 (ipykernel)",
   "language": "python",
   "name": "python3"
  },
  "language_info": {
   "codemirror_mode": {
    "name": "ipython",
    "version": 3
   },
   "file_extension": ".py",
   "mimetype": "text/x-python",
   "name": "python",
   "nbconvert_exporter": "python",
   "pygments_lexer": "ipython3",
   "version": "3.9.12"
  }
 },
 "nbformat": 4,
 "nbformat_minor": 5
}
