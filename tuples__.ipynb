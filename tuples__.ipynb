{
 "cells": [
  {
   "cell_type": "markdown",
   "id": "b5a53ca9",
   "metadata": {},
   "source": [
    "#### Create single value tuple"
   ]
  },
  {
   "cell_type": "markdown",
   "id": "cf2bf869",
   "metadata": {},
   "source": [
    "#### observe this"
   ]
  },
  {
   "cell_type": "code",
   "execution_count": 6,
   "id": "df676de2",
   "metadata": {},
   "outputs": [
    {
     "name": "stdout",
     "output_type": "stream",
     "text": [
      "3\n",
      "<class 'int'>\n"
     ]
    }
   ],
   "source": [
    "tup=(3)\n",
    "print(tup)\n",
    "print(type(tup))\n"
   ]
  },
  {
   "cell_type": "markdown",
   "id": "f2ce7365",
   "metadata": {},
   "source": [
    "#### Tuple from single value"
   ]
  },
  {
   "cell_type": "code",
   "execution_count": 1,
   "id": "246bea31",
   "metadata": {},
   "outputs": [],
   "source": [
    "tup=(1,)"
   ]
  },
  {
   "cell_type": "code",
   "execution_count": 2,
   "id": "e6183642",
   "metadata": {},
   "outputs": [
    {
     "name": "stdout",
     "output_type": "stream",
     "text": [
      "(1,)\n"
     ]
    }
   ],
   "source": [
    "print(tup)"
   ]
  },
  {
   "cell_type": "code",
   "execution_count": 3,
   "id": "46748b1e",
   "metadata": {},
   "outputs": [
    {
     "name": "stdout",
     "output_type": "stream",
     "text": [
      "<class 'tuple'>\n"
     ]
    }
   ],
   "source": [
    "print(type(tup))"
   ]
  },
  {
   "cell_type": "markdown",
   "id": "106a311e",
   "metadata": {},
   "source": [
    "#### tuple with 0 elements"
   ]
  },
  {
   "cell_type": "code",
   "execution_count": 7,
   "id": "376724ab",
   "metadata": {},
   "outputs": [
    {
     "name": "stdout",
     "output_type": "stream",
     "text": [
      "<class 'tuple'>\n"
     ]
    }
   ],
   "source": [
    "t=()\n",
    "print(type(t))"
   ]
  },
  {
   "cell_type": "markdown",
   "id": "18d46f81",
   "metadata": {},
   "source": [
    "## Interesting facts"
   ]
  },
  {
   "cell_type": "code",
   "execution_count": 8,
   "id": "a4e8dc5d",
   "metadata": {},
   "outputs": [],
   "source": [
    "t=(1,2,3,'Pune',[1,2,3,4])"
   ]
  },
  {
   "cell_type": "code",
   "execution_count": 10,
   "id": "3d3ee72b",
   "metadata": {},
   "outputs": [],
   "source": [
    "t[4][0]=100"
   ]
  },
  {
   "cell_type": "code",
   "execution_count": 11,
   "id": "c45a723d",
   "metadata": {},
   "outputs": [
    {
     "data": {
      "text/plain": [
       "(1, 2, 3, 'Pune', [100, 2, 3, 4])"
      ]
     },
     "execution_count": 11,
     "metadata": {},
     "output_type": "execute_result"
    }
   ],
   "source": [
    "t"
   ]
  },
  {
   "cell_type": "markdown",
   "id": "c9ce3313",
   "metadata": {},
   "source": [
    "##### Here the list inside the tuple is mutable"
   ]
  },
  {
   "cell_type": "code",
   "execution_count": 12,
   "id": "d39f2f4d",
   "metadata": {},
   "outputs": [],
   "source": [
    "t[4].append(200)"
   ]
  },
  {
   "cell_type": "code",
   "execution_count": 13,
   "id": "a05e209d",
   "metadata": {},
   "outputs": [
    {
     "data": {
      "text/plain": [
       "(1, 2, 3, 'Pune', [100, 2, 3, 4, 200])"
      ]
     },
     "execution_count": 13,
     "metadata": {},
     "output_type": "execute_result"
    }
   ],
   "source": [
    "t"
   ]
  },
  {
   "cell_type": "code",
   "execution_count": 14,
   "id": "88bd7c63",
   "metadata": {},
   "outputs": [],
   "source": [
    "t[4].insert(1,1000)"
   ]
  },
  {
   "cell_type": "code",
   "execution_count": 15,
   "id": "2b215779",
   "metadata": {},
   "outputs": [
    {
     "data": {
      "text/plain": [
       "(1, 2, 3, 'Pune', [100, 1000, 2, 3, 4, 200])"
      ]
     },
     "execution_count": 15,
     "metadata": {},
     "output_type": "execute_result"
    }
   ],
   "source": [
    "t"
   ]
  },
  {
   "cell_type": "code",
   "execution_count": null,
   "id": "9eee2f9d",
   "metadata": {},
   "outputs": [],
   "source": []
  },
  {
   "cell_type": "code",
   "execution_count": null,
   "id": "48702309",
   "metadata": {},
   "outputs": [],
   "source": []
  }
 ],
 "metadata": {
  "kernelspec": {
   "display_name": "Python 3 (ipykernel)",
   "language": "python",
   "name": "python3"
  },
  "language_info": {
   "codemirror_mode": {
    "name": "ipython",
    "version": 3
   },
   "file_extension": ".py",
   "mimetype": "text/x-python",
   "name": "python",
   "nbconvert_exporter": "python",
   "pygments_lexer": "ipython3",
   "version": "3.9.12"
  }
 },
 "nbformat": 4,
 "nbformat_minor": 5
}
